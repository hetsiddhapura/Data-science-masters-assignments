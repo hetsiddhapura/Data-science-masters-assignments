{
 "cells": [
  {
   "cell_type": "code",
   "execution_count": 1,
   "id": "cbef4f41-56ef-4ca0-a2e2-2f7ff694f361",
   "metadata": {},
   "outputs": [],
   "source": [
    "#Q1. Which keyword is used to create a function? Create a function to return a list of odd numbers in the\n",
    "#range of 1 to 25.\n",
    "'''def is used to create a function'''\n",
    "def oddnum():\n",
    "    for i in range(1,26):\n",
    "        if i%2!=0:\n",
    "            print(i)\n",
    "            "
   ]
  },
  {
   "cell_type": "code",
   "execution_count": 2,
   "id": "3600d6bf-0a09-459d-bbdf-b431b93d5bdd",
   "metadata": {},
   "outputs": [
    {
     "name": "stdout",
     "output_type": "stream",
     "text": [
      "1\n",
      "3\n",
      "5\n",
      "7\n",
      "9\n",
      "11\n",
      "13\n",
      "15\n",
      "17\n",
      "19\n",
      "21\n",
      "23\n",
      "25\n"
     ]
    }
   ],
   "source": [
    "oddnum()"
   ]
  },
  {
   "cell_type": "code",
   "execution_count": 4,
   "id": "a5078d9c-4c59-479b-8c14-68b211b58c88",
   "metadata": {},
   "outputs": [],
   "source": [
    "#Q2. Why *args and **kwargs is used in some functions? Create a function each for *args and **kwargs to\n",
    "#demonstrate their use.\n",
    "''' *args are used in some functions because sometimes we don't know how many arguments we need to give while\n",
    "defining a function so we give *args so that we can give as many arguments as we want\n",
    "**kwargs is used to give as many key-value pairs as arguments in a function'''\n",
    "def test5(**kwargs):\n",
    "    return kwargs\n",
    "\n",
    "def test6(**kwargs):\n",
    "    for i in kwargs.keys():\n",
    "        if type(kwargs[i]) == list:\n",
    "            return i, kwargs[i]"
   ]
  },
  {
   "cell_type": "code",
   "execution_count": 9,
   "id": "b47b9901-4ee8-4842-8e08-1c3d3d9d0532",
   "metadata": {},
   "outputs": [
    {
     "name": "stdout",
     "output_type": "stream",
     "text": [
      "2\n",
      "4\n",
      "6\n",
      "8\n",
      "10\n"
     ]
    }
   ],
   "source": [
    "#Q3. What is an iterator in python? Name the method used to initialise the iterator object and the method\n",
    "#used for iteration. Use these methods to print the first five elements of the given \n",
    "'''In Python, an iterator is an object that provides sequential access to the elements of a collection or a \n",
    "sequence, such as a list, tuple, or dictionary. It allows you to iterate through the items in a sequence \n",
    "one by one, without having to know the underlying data structure.'''\n",
    "l = [2, 4, 6, 8, 10, 12, 14, 16, 18, 20]\n",
    "for i in range(0,5):\n",
    "    print(l[i])\n",
    "    "
   ]
  },
  {
   "cell_type": "code",
   "execution_count": 16,
   "id": "d739d8eb-077e-4a34-91d9-30e60ab41a5b",
   "metadata": {},
   "outputs": [
    {
     "name": "stdout",
     "output_type": "stream",
     "text": [
      "2\n",
      "4\n",
      "6\n",
      "8\n"
     ]
    }
   ],
   "source": [
    "#Q4. What is a generator function in python? Why yield keyword is used? Give an example of a generator\n",
    "#function.\n",
    "'''In Python, a generator function is a special type of function that returns an iterator object, \n",
    "which can be iterated through using a for loop or the next() function. Instead of using the return keyword \n",
    "to return a value, a generator function uses the yield keyword to yield a value to the caller, while retaining \n",
    "the state of the function for later use.\n",
    "\n",
    "When a generator function is called, it doesn't actually execute the function's code immediately. \n",
    "Instead, it creates a generator object that can be used to control the execution of the function's code, \n",
    "and returns it to the caller. The generator object can then be iterated through one value at a time using \n",
    "the next() function, until the function's code has been completely executed.\n",
    "\n",
    "The yield keyword is used in generator functions to return a value to the caller, while retaining the \n",
    "current state of the function. When the yield keyword is encountered, the function's state is saved, \n",
    "and the yielded value is returned to the caller. The next time the function is called, execution resumes \n",
    "from the point where it was last stopped, \n",
    "and the function continues until the next yield statement is encountered.'''\n",
    "def evennum(n):\n",
    "    i=1\n",
    "    while(i<n):\n",
    "        yield i*2\n",
    "        i+=1\n",
    "\n",
    "for i in evennum(5):\n",
    "    print(i)"
   ]
  },
  {
   "cell_type": "code",
   "execution_count": null,
   "id": "8ff7c1d3-b4d9-4957-85d9-4b24d01a5b99",
   "metadata": {},
   "outputs": [],
   "source": []
  }
 ],
 "metadata": {
  "kernelspec": {
   "display_name": "Python 3 (ipykernel)",
   "language": "python",
   "name": "python3"
  },
  "language_info": {
   "codemirror_mode": {
    "name": "ipython",
    "version": 3
   },
   "file_extension": ".py",
   "mimetype": "text/x-python",
   "name": "python",
   "nbconvert_exporter": "python",
   "pygments_lexer": "ipython3",
   "version": "3.10.8"
  }
 },
 "nbformat": 4,
 "nbformat_minor": 5
}
