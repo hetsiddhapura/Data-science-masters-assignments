{
 "cells": [
  {
   "cell_type": "code",
   "execution_count": 1,
   "id": "68db921b-ccc6-4435-8bca-c93baa95dd98",
   "metadata": {},
   "outputs": [
    {
     "data": {
      "text/plain": [
       "'In this example, we first define a function my_function() that will be executed in the new thread. We then create a new thread object my_thread using the Thread class and pass the my_function() function as the target parameter. Finally, we start the thread using the start() method of the thread object.'"
      ]
     },
     "execution_count": 1,
     "metadata": {},
     "output_type": "execute_result"
    }
   ],
   "source": [
    "#Q1. hat is multithreading in python? hy is it used? Name the module used to handle threads in python\n",
    "\"\"\"Multithreading is a programming technique that enables a single program to run multiple threads concurrently. Each thread represents a separate flow of execution that can perform a set of operations simultaneously. In Python, multithreading is achieved through the threading module, which allows developers to create, start, and manage threads.\n",
    "\n",
    "Multithreading is used in Python for several reasons, such as:\n",
    "\n",
    "To improve the responsiveness of GUI applications by separating long-running tasks from the main thread, allowing the user interface to remain responsive while the application is performing other tasks in the background.\n",
    "To take advantage of multi-core processors by splitting workloads across multiple threads to run concurrently, thereby improving overall application performance.\n",
    "To perform asynchronous I/O operations, such as reading from or writing to a file, network socket, or database connection, without blocking the main thread.\n",
    "To use multithreading in Python, you need to import the threading module and create a new thread object by subclassing the Thread class. Then, you can start the thread using the start() method, which will run the run() method of the thread in a new separate flow of execution.\n",
    "\n",
    "Here's an example of using the threading module to create and start a new thread in Python:\n",
    "\"\"\"\n",
    "import threading\n",
    "\n",
    "def my_function():\n",
    "    # code to be executed in the new thread\n",
    "    pass\n",
    "\n",
    "# create a new thread object\n",
    "my_thread = threading.Thread(target=my_function)\n",
    "\n",
    "# start the new thread\n",
    "my_thread.start()\n",
    "\"\"\"In this example, we first define a function my_function() that will be executed in the new thread. We then create a new thread object my_thread using the Thread class and pass the my_function() function as the target parameter. Finally, we start the thread using the start() method of the thread object.\"\"\""
   ]
  },
  {
   "cell_type": "code",
   "execution_count": 3,
   "id": "d2e502a9-7ce1-475d-85c0-4af6a4d9f02b",
   "metadata": {},
   "outputs": [
    {
     "name": "stdout",
     "output_type": "stream",
     "text": [
      "Thread-0 started\n",
      "Thread-0 finished\n",
      "Thread-1 started\n",
      "Thread-1 finished\n",
      "Thread-2 started\n",
      "Thread-2 finished\n",
      "Thread-3 started\n",
      "Thread-3 finished\n",
      "Thread-4 started\n",
      "Thread-4 finished\n",
      "Number of active threads: 8\n",
      "MainThread\n",
      "IOPub\n",
      "Heartbeat\n",
      "Thread-3 (_watch_pipe_fd)\n",
      "Thread-4 (_watch_pipe_fd)\n",
      "Control\n",
      "IPythonHistorySavingThread\n",
      "Thread-2\n"
     ]
    },
    {
     "data": {
      "text/plain": [
       "'In this example, we first define a function my_function() that prints the name of the current thread, performs some operations, and then prints the name of the current thread again. We then create five thread objects with different names and add them to a list called threads. We start all the threads using the start() method and then wait for them to complete using the join() method.\\n\\nAfter all threads have completed, we print the number of active threads using the active_count() function and then print the list of all thread objects using the enumerate() function'"
      ]
     },
     "execution_count": 3,
     "metadata": {},
     "output_type": "execute_result"
    }
   ],
   "source": [
    "#Q2 why threading module used? write the use of the following functions\n",
    "#activeCount()\n",
    "#currentThread()\n",
    "#enumerate()\n",
    "\"\"\"The threading module in Python is used to create, manage and work with threads. It provides a way to execute multiple threads of execution concurrently within a single process. Here are the use cases of some of the commonly used functions in the threading module:\n",
    "\n",
    "activeCount(): This function returns the number of currently active threads in the current process. It is useful when you want to keep track of the number of threads running in the background.\n",
    "\n",
    "currentThread(): This function returns a reference to the current thread object. It is useful when you want to identify the current thread and perform some operations on it.\n",
    "\n",
    "enumerate(): This function returns a list of all active thread objects in the current process. It is useful when you want to get a list of all threads and perform some operations on them, such as checking their status or joining them.\n",
    "\n",
    "Here's an example of how you can use these functions:\n",
    "\"\"\"\n",
    "import threading\n",
    "\n",
    "def my_function():\n",
    "    print(f\"{threading.current_thread().name} started\")\n",
    "    # some operations\n",
    "    print(f\"{threading.current_thread().name} finished\")\n",
    "\n",
    "# create multiple thread objects\n",
    "threads = []\n",
    "for i in range(5):\n",
    "    thread = threading.Thread(target=my_function, name=f\"Thread-{i}\")\n",
    "    threads.append(thread)\n",
    "\n",
    "# start all threads\n",
    "for thread in threads:\n",
    "    thread.start()\n",
    "\n",
    "# wait for all threads to complete\n",
    "for thread in threads:\n",
    "    thread.join()\n",
    "\n",
    "# print the number of active threads\n",
    "print(f\"Number of active threads: {threading.active_count()}\")\n",
    "\n",
    "# print the list of all thread objects\n",
    "for thread in threading.enumerate():\n",
    "    print(thread.name)\n",
    "\"\"\"In this example, we first define a function my_function() that prints the name of the current thread, performs some operations, and then prints the name of the current thread again. We then create five thread objects with different names and add them to a list called threads. We start all the threads using the start() method and then wait for them to complete using the join() method.\n",
    "\n",
    "After all threads have completed, we print the number of active threads using the active_count() function and then print the list of all thread objects using the enumerate() function\"\"\""
   ]
  },
  {
   "cell_type": "code",
   "execution_count": 4,
   "id": "b18c9bd9-2ffe-420b-9a0f-dd3e4c7f6d21",
   "metadata": {},
   "outputs": [
    {
     "name": "stdout",
     "output_type": "stream",
     "text": [
      "Thread-1 started\n",
      "Thread-1 finished\n",
      "Thread-1 has completed\n"
     ]
    },
    {
     "data": {
      "text/plain": [
       "'In this example, we first define a new class MyThread that inherits from the Thread class. We override the run() method to define the behavior of the thread. We then create a new thread object called my_thread with the name \"Thread-1\". We start the thread using the start() method, which calls the run() method in a separate thread of execution.\\n\\nWe then wait for the thread to complete using the join() method, which blocks the main thread until the my_thread thread completes its execution. Finally, we check if the thread is still alive using the is_alive() method and print a message indicating whether the thread has completed or is still running'"
      ]
     },
     "execution_count": 4,
     "metadata": {},
     "output_type": "execute_result"
    }
   ],
   "source": [
    "#Q33. Explain the following functions\n",
    "#run()\n",
    "#start()\n",
    "#join()\n",
    "#isAlive()\n",
    "\"\"\"In the Python threading module, the Thread class provides several methods that are used to create, manage, and manipulate threads. Here are some commonly used methods of the Thread class:\n",
    "\n",
    "run(): This method contains the code that will be executed when the thread is started using the start() method. It is typically overridden by the developer to define the behavior of the thread.\n",
    "\n",
    "start(): This method starts the thread's activity by calling the run() method. It creates a new thread of execution and begins executing the run() method in that thread.\n",
    "\n",
    "join(): This method waits for the thread to complete its execution. It blocks the calling thread until the thread being joined completes its execution.\n",
    "\n",
    "isAlive(): This method returns a Boolean value indicating whether the thread is alive or not. A thread is considered alive if it has been started and has not yet completed its execution.\n",
    "\n",
    "Here's an example of how you can use these methods:\n",
    "\"\"\"\n",
    "import threading\n",
    "\n",
    "class MyThread(threading.Thread):\n",
    "    def __init__(self, name):\n",
    "        threading.Thread.__init__(self)\n",
    "        self.name = name\n",
    "\n",
    "    def run(self):\n",
    "        print(f\"{self.name} started\")\n",
    "        # some operations\n",
    "        print(f\"{self.name} finished\")\n",
    "\n",
    "# create a new thread object\n",
    "my_thread = MyThread(\"Thread-1\")\n",
    "\n",
    "# start the thread\n",
    "my_thread.start()\n",
    "\n",
    "# wait for the thread to complete\n",
    "my_thread.join()\n",
    "\n",
    "# check if the thread is still alive\n",
    "if my_thread.is_alive():\n",
    "    print(f\"{my_thread.name} is still running\")\n",
    "else:\n",
    "    print(f\"{my_thread.name} has completed\")\n",
    "\"\"\"In this example, we first define a new class MyThread that inherits from the Thread class. We override the run() method to define the behavior of the thread. We then create a new thread object called my_thread with the name \"Thread-1\". We start the thread using the start() method, which calls the run() method in a separate thread of execution.\n",
    "\n",
    "We then wait for the thread to complete using the join() method, which blocks the main thread until the my_thread thread completes its execution. Finally, we check if the thread is still alive using the is_alive() method and print a message indicating whether the thread has completed or is still running\"\"\""
   ]
  },
  {
   "cell_type": "code",
   "execution_count": 7,
   "id": "b19aa67d-9b2f-45b4-a76c-7a59d1417b96",
   "metadata": {},
   "outputs": [
    {
     "name": "stdout",
     "output_type": "stream",
     "text": [
      "1 squared is 1\n",
      "2 squared is 4\n",
      "3 squared is 9\n",
      "4 squared is 16\n",
      "5 squared is 25\n",
      "6 squared is 36\n",
      "7 squared is 49\n",
      "8 squared is 64\n",
      "9 squared is 81\n",
      "10 squared is 100\n",
      "1 cubed is 1\n",
      "2 cubed is 8\n",
      "3 cubed is 27\n",
      "4 cubed is 64\n",
      "5 cubed is 125\n",
      "6 cubed is 216\n",
      "7 cubed is 343\n",
      "8 cubed is 512\n",
      "9 cubed is 729\n",
      "10 cubed is 1000\n"
     ]
    }
   ],
   "source": [
    "#Q4. rite a python program to create two threads. Thread one must print the list of squares and thread\n",
    "#two must print the list of cubes\n",
    "import threading\n",
    "\n",
    "def print_squares():\n",
    "    for i in range(1, 11):\n",
    "        print(f\"{i} squared is {i*i}\")\n",
    "\n",
    "def print_cubes():\n",
    "    for i in range(1, 11):\n",
    "        print(f\"{i} cubed is {i*i*i}\")\n",
    "\n",
    "# create two thread objects\n",
    "thread1 = threading.Thread(target=print_squares)\n",
    "thread2 = threading.Thread(target=print_cubes)\n",
    "\n",
    "# start both threads\n",
    "thread1.start()\n",
    "thread2.start()"
   ]
  },
  {
   "cell_type": "code",
   "execution_count": 8,
   "id": "cba85ba5-c063-4429-b172-a3cd7ee6d440",
   "metadata": {},
   "outputs": [
    {
     "data": {
      "text/plain": [
       "'Multithreading has several advantages and disadvantages. Here are some of them:\\n\\nAdvantages of Multithreading:\\n\\nImproved performance: Multithreading can lead to improved performance by allowing multiple tasks to run concurrently. This can make your program faster and more responsive.\\n\\nEfficient resource utilization: Multithreading allows better utilization of system resources such as CPU and memory, as threads can share resources more efficiently than processes.\\n\\nSimpler program structure: Multithreading can simplify program structure by allowing different tasks to be performed in parallel, making code more modular and easier to understand.\\n\\nBetter user experience: Multithreading can improve the user experience by allowing the user interface to remain responsive while other tasks are running in the background.\\n\\nDisadvantages of Multithreading:\\n\\nComplexity: Multithreading can add complexity to a program, making it harder to write and debug. Race conditions and other concurrency issues can be difficult to diagnose and fix.\\n\\nResource contention: Multithreading can lead to resource contention, where multiple threads try to access the same resources at the same time, leading to deadlock or other issues.\\n\\nOverhead: Multithreading introduces additional overhead, such as context switching and thread synchronization, which can reduce performance if not managed properly.\\n\\nPlatform dependence: Multithreading is platform-dependent, and the way threads are created and managed can vary across different operating systems and programming languages.\\n\\nOverall, multithreading can be a powerful tool for improving performance and creating more efficient and responsive programs, but it also requires careful design and management to avoid potential issues such as resource contention and race condition'"
      ]
     },
     "execution_count": 8,
     "metadata": {},
     "output_type": "execute_result"
    }
   ],
   "source": [
    "#Q5 State advantages and disadvantages of multithreading\n",
    "\"\"\"Multithreading has several advantages and disadvantages. Here are some of them:\n",
    "\n",
    "Advantages of Multithreading:\n",
    "\n",
    "Improved performance: Multithreading can lead to improved performance by allowing multiple tasks to run concurrently. This can make your program faster and more responsive.\n",
    "\n",
    "Efficient resource utilization: Multithreading allows better utilization of system resources such as CPU and memory, as threads can share resources more efficiently than processes.\n",
    "\n",
    "Simpler program structure: Multithreading can simplify program structure by allowing different tasks to be performed in parallel, making code more modular and easier to understand.\n",
    "\n",
    "Better user experience: Multithreading can improve the user experience by allowing the user interface to remain responsive while other tasks are running in the background.\n",
    "\n",
    "Disadvantages of Multithreading:\n",
    "\n",
    "Complexity: Multithreading can add complexity to a program, making it harder to write and debug. Race conditions and other concurrency issues can be difficult to diagnose and fix.\n",
    "\n",
    "Resource contention: Multithreading can lead to resource contention, where multiple threads try to access the same resources at the same time, leading to deadlock or other issues.\n",
    "\n",
    "Overhead: Multithreading introduces additional overhead, such as context switching and thread synchronization, which can reduce performance if not managed properly.\n",
    "\n",
    "Platform dependence: Multithreading is platform-dependent, and the way threads are created and managed can vary across different operating systems and programming languages.\n",
    "\n",
    "Overall, multithreading can be a powerful tool for improving performance and creating more efficient and responsive programs, but it also requires careful design and management to avoid potential issues such as resource contention and race condition\"\"\""
   ]
  },
  {
   "cell_type": "code",
   "execution_count": 9,
   "id": "cd796e36-f8b7-4fe2-95c8-267e4c8368b2",
   "metadata": {},
   "outputs": [
    {
     "data": {
      "text/plain": [
       "\"Deadlocks and race conditions are two common concurrency issues that can arise when using multithreading.\\n\\nDeadlocks:\\n\\nA deadlock occurs when two or more threads are blocked indefinitely, waiting for each other to release resources they need to proceed. This happens when each thread holds a resource that the other thread needs, and both threads are waiting for the other to release its resource.\\n\\nFor example, consider two threads, A and B, that both need access to two resources, X and Y. If thread A acquires resource X and thread B acquires resource Y, and both threads try to acquire the other resource, they will become deadlocked, as neither thread can proceed until the other releases the resource it needs.\\n\\nDeadlocks can be difficult to detect and resolve, and can lead to a program becoming unresponsive.\\n\\nRace Conditions:\\n\\nA race condition occurs when two or more threads access a shared resource at the same time, and the final result depends on the order in which the threads execute. This can lead to unexpected and unpredictable behavior, as the outcome of the program can vary depending on timing and execution order.\\n\\nFor example, consider two threads, A and B, that both need to increment a shared variable, count. If both threads read the value of count, increment it, and write the new value back to count, there is a chance that the final value of count will not be what is expected. This can happen if both threads read the same value of count, and then write their incremented value back to count, effectively overwriting each other's changes.\\n\\nRace conditions can be difficult to detect and reproduce, and can lead to subtle bugs and unexpected behavior in a program.\\n\\nTo avoid deadlocks and race conditions, it is important to use proper synchronization techniques such as locks, semaphores, and condition variables to manage access to shared resources and ensure that threads execute in a predictable and coordinated manner\""
      ]
     },
     "execution_count": 9,
     "metadata": {},
     "output_type": "execute_result"
    }
   ],
   "source": [
    "#Q6. Explain deadlocks and race conditions.\n",
    "\"\"\"Deadlocks and race conditions are two common concurrency issues that can arise when using multithreading.\n",
    "\n",
    "Deadlocks:\n",
    "\n",
    "A deadlock occurs when two or more threads are blocked indefinitely, waiting for each other to release resources they need to proceed. This happens when each thread holds a resource that the other thread needs, and both threads are waiting for the other to release its resource.\n",
    "\n",
    "For example, consider two threads, A and B, that both need access to two resources, X and Y. If thread A acquires resource X and thread B acquires resource Y, and both threads try to acquire the other resource, they will become deadlocked, as neither thread can proceed until the other releases the resource it needs.\n",
    "\n",
    "Deadlocks can be difficult to detect and resolve, and can lead to a program becoming unresponsive.\n",
    "\n",
    "Race Conditions:\n",
    "\n",
    "A race condition occurs when two or more threads access a shared resource at the same time, and the final result depends on the order in which the threads execute. This can lead to unexpected and unpredictable behavior, as the outcome of the program can vary depending on timing and execution order.\n",
    "\n",
    "For example, consider two threads, A and B, that both need to increment a shared variable, count. If both threads read the value of count, increment it, and write the new value back to count, there is a chance that the final value of count will not be what is expected. This can happen if both threads read the same value of count, and then write their incremented value back to count, effectively overwriting each other's changes.\n",
    "\n",
    "Race conditions can be difficult to detect and reproduce, and can lead to subtle bugs and unexpected behavior in a program.\n",
    "\n",
    "To avoid deadlocks and race conditions, it is important to use proper synchronization techniques such as locks, semaphores, and condition variables to manage access to shared resources and ensure that threads execute in a predictable and coordinated manner\"\"\""
   ]
  },
  {
   "cell_type": "code",
   "execution_count": null,
   "id": "804af5ae-38f3-4c52-920b-b2a4943c5485",
   "metadata": {},
   "outputs": [],
   "source": []
  }
 ],
 "metadata": {
  "kernelspec": {
   "display_name": "Python 3 (ipykernel)",
   "language": "python",
   "name": "python3"
  },
  "language_info": {
   "codemirror_mode": {
    "name": "ipython",
    "version": 3
   },
   "file_extension": ".py",
   "mimetype": "text/x-python",
   "name": "python",
   "nbconvert_exporter": "python",
   "pygments_lexer": "ipython3",
   "version": "3.10.8"
  }
 },
 "nbformat": 4,
 "nbformat_minor": 5
}
