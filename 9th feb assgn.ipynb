{
 "cells": [
  {
   "cell_type": "code",
   "execution_count": 6,
   "id": "6831365c-ca14-4cc4-ac0c-926af58ad723",
   "metadata": {},
   "outputs": [],
   "source": [
    "#Q1, Create a vehicle class with an init method having instance variables as name_of_vehicle, max_speed\n",
    "#and average_of_vehicle.\n",
    "class vehicle:\n",
    "    def __init__(self,name_of_vehicle,max_speed,average_of_vehicle):\n",
    "        self.name_of_vehicle = name_of_vehicle\n",
    "        self.max_speed = max_speed\n",
    "        self.average_of_vehicle = average_of_vehicle\n",
    "    \n",
    "    def get_detals_of_vehicle(self):\n",
    "        return self.name_of_vehicle,self.max_speed,self.average_of_vehicle"
   ]
  },
  {
   "cell_type": "code",
   "execution_count": 7,
   "id": "90f5e84c-8426-447d-8b54-79d8d12d256b",
   "metadata": {},
   "outputs": [],
   "source": [
    "vehicle1 = vehicle('car',120,60)"
   ]
  },
  {
   "cell_type": "code",
   "execution_count": 11,
   "id": "c9d088bf-35a2-4295-9497-8cd877a2efdf",
   "metadata": {},
   "outputs": [
    {
     "data": {
      "text/plain": [
       "('car', 120, 60)"
      ]
     },
     "execution_count": 11,
     "metadata": {},
     "output_type": "execute_result"
    }
   ],
   "source": [
    "vehicle1.get_detals_of_vehicle()"
   ]
  },
  {
   "cell_type": "code",
   "execution_count": 20,
   "id": "b8443c3b-b864-4f0f-8c9e-c21e20231630",
   "metadata": {},
   "outputs": [],
   "source": [
    "#Q2. Create a child class car from the vehicle class created in Que 1, which will inherit the vehicle class.\n",
    "#Create a method named seating_capacity which takes capacity as an argument and returns the name of\n",
    "#the vehicle and its seating capacity.\n",
    "class car(vehicle):\n",
    "    def seating_capacity(self,capacity):\n",
    "        self.capacity = capacity\n",
    "        return self.name_of_vehicle,self.capacity"
   ]
  },
  {
   "cell_type": "code",
   "execution_count": 21,
   "id": "d7d21231-b622-40b8-9a34-5de7d4b4ea99",
   "metadata": {},
   "outputs": [],
   "source": [
    "bmw = car('car',150,80)"
   ]
  },
  {
   "cell_type": "code",
   "execution_count": 22,
   "id": "99467e10-757e-47a7-b5c3-f23c2b1ea19f",
   "metadata": {},
   "outputs": [
    {
     "data": {
      "text/plain": [
       "('car', 5)"
      ]
     },
     "execution_count": 22,
     "metadata": {},
     "output_type": "execute_result"
    }
   ],
   "source": [
    "bmw.seating_capacity(5)"
   ]
  },
  {
   "cell_type": "code",
   "execution_count": 23,
   "id": "6c93edac-71f9-4599-900c-93ab3d8b2d70",
   "metadata": {},
   "outputs": [
    {
     "name": "stdout",
     "output_type": "stream",
     "text": [
      "This is method A\n",
      "This is method B\n",
      "This is method C\n"
     ]
    },
    {
     "data": {
      "text/plain": [
       "'In the code above, we define three classes: A, B, and C. A and B are the parent classes, and C is the child \\nclass that inherits from both A and B.\\n\\nClass A has a method called method_a(), which simply prints a message. Class B has a method called method_b(), \\nwhich also prints a message.\\n\\nClass C inherits from both A and B and has its own method called method_c(), which also prints a message.\\n\\nWhen we create an instance of class C, we can call methods from all three classes using dot notation. For example,\\nobj.method_a() calls method_a() from class A, obj.method_b() calls method_b() from class B, and obj.method_c() \\ncalls method_c() from class C.'"
      ]
     },
     "execution_count": 23,
     "metadata": {},
     "output_type": "execute_result"
    }
   ],
   "source": [
    "#Q3. What is multiple inheritance? Write a python code to demonstrate multiple inheritance.\n",
    "'''Multiple inheritance is a feature of object-oriented programming where a class can inherit attributes and methods \n",
    "from more than one parent class. This allows for greater flexibility in class design and promotes code reuse.\n",
    "\n",
    "Here's an example of multiple inheritance in Python:\n",
    "'''\n",
    "class A:\n",
    "    def method_a(self):\n",
    "        print(\"This is method A\")\n",
    "\n",
    "class B:\n",
    "    def method_b(self):\n",
    "        print(\"This is method B\")\n",
    "\n",
    "class C(A, B):\n",
    "    def method_c(self):\n",
    "        print(\"This is method C\")\n",
    "\n",
    "obj = C()\n",
    "obj.method_a()\n",
    "obj.method_b()\n",
    "obj.method_c()\n",
    "\n",
    "'''In the code above, we define three classes: A, B, and C. A and B are the parent classes, and C is the child \n",
    "class that inherits from both A and B.\n",
    "\n",
    "Class A has a method called method_a(), which simply prints a message. Class B has a method called method_b(), \n",
    "which also prints a message.\n",
    "\n",
    "Class C inherits from both A and B and has its own method called method_c(), which also prints a message.\n",
    "\n",
    "When we create an instance of class C, we can call methods from all three classes using dot notation. For example,\n",
    "obj.method_a() calls method_a() from class A, obj.method_b() calls method_b() from class B, and obj.method_c() \n",
    "calls method_c() from class C.'''"
   ]
  },
  {
   "cell_type": "code",
   "execution_count": 25,
   "id": "17168b87-2ebd-4f59-bb20-cbd4929f9bf9",
   "metadata": {},
   "outputs": [
    {
     "name": "stdout",
     "output_type": "stream",
     "text": [
      "John\n",
      "Mike\n"
     ]
    },
    {
     "data": {
      "text/plain": [
       "'In the code above, we define a Person class with a private attribute __name. We define a getter method using \\nthe @property decorator and a setter method using the @name.setter decorator.\\n\\nThe getter method returns the value of the private attribute __name, while the setter method sets the value\\nof __name to the value passed as an argument.\\n\\nWe create an instance of the class Person with the name \"John\" and print its name attribute using the getter method.\\nWe then set the name attribute to \"Mike\" using the setter method and print it again using the getter method'"
      ]
     },
     "execution_count": 25,
     "metadata": {},
     "output_type": "execute_result"
    }
   ],
   "source": [
    "#Q4What are getter and setter in python? Create a class and create a getter and a setter method in this\n",
    "#class.\n",
    "'''Getter and setter are methods used to access and modify the value of an attribute in a class. They are also \n",
    "known as accessor and mutator methods.\n",
    "\n",
    "In Python, getter and setter methods are implemented using the @property and @<attribute>.setter decorators.\n",
    "\n",
    "Here's an example class that includes a getter and setter method for a private attribute __name:'''\n",
    "\n",
    "class Person:\n",
    "    def __init__(self, name):\n",
    "        self.__name = name\n",
    "\n",
    "    @property\n",
    "    def name(self):\n",
    "        return self.__name\n",
    "\n",
    "    @name.setter\n",
    "    def name(self, value):\n",
    "        self.__name = value\n",
    "\n",
    "# Creating an instance of the class\n",
    "p = Person(\"John\")\n",
    "print(p.name) # Output: John\n",
    "\n",
    "# Setting the name attribute using the setter method\n",
    "p.name = \"Mike\"\n",
    "print(p.name) # Output: Mike\n",
    "\n",
    "'''In the code above, we define a Person class with a private attribute __name. We define a getter method using \n",
    "the @property decorator and a setter method using the @name.setter decorator.\n",
    "\n",
    "The getter method returns the value of the private attribute __name, while the setter method sets the value\n",
    "of __name to the value passed as an argument.\n",
    "\n",
    "We create an instance of the class Person with the name \"John\" and print its name attribute using the getter method.\n",
    "We then set the name attribute to \"Mike\" using the setter method and print it again using the getter method'''"
   ]
  },
  {
   "cell_type": "code",
   "execution_count": 26,
   "id": "1d7cc6c7-4da9-49c6-a3a5-77de379e69ff",
   "metadata": {},
   "outputs": [
    {
     "name": "stdout",
     "output_type": "stream",
     "text": [
      "I can run and walk\n"
     ]
    },
    {
     "data": {
      "text/plain": [
       "'In the code above, we define two classes Animal and Dog. The Animal class has a move() method that simply \\nprints \"I can move\".\\n\\nThe Dog class inherits from the Animal class and overrides the move() method with a different implementation \\nthat prints \"I can run and walk\".\\n\\nWhen we create an instance of the Dog class and call its move() method, we get the specialized behavior defined \\nin the Dog class.'"
      ]
     },
     "execution_count": 26,
     "metadata": {},
     "output_type": "execute_result"
    }
   ],
   "source": [
    "#Q5.What is method overriding in python? Write a python code to demonstrate method overriding.\n",
    "'''Method overriding is a feature of object-oriented programming where a subclass can provide a different \n",
    "implementation of a method that is already defined in its parent class. This allows for more flexible and \n",
    "specialized behavior in the child class.\n",
    "\n",
    "Here's an example of method overriding in Python:'''\n",
    "\n",
    "class Animal:\n",
    "    def move(self):\n",
    "        print(\"I can move\")\n",
    "\n",
    "class Dog(Animal):\n",
    "    def move(self):\n",
    "        print(\"I can run and walk\")\n",
    "\n",
    "# Creating an instance of the Dog class\n",
    "d = Dog()\n",
    "\n",
    "# Calling the move() method from the Dog class\n",
    "d.move()\n",
    "'''In the code above, we define two classes Animal and Dog. The Animal class has a move() method that simply \n",
    "prints \"I can move\".\n",
    "\n",
    "The Dog class inherits from the Animal class and overrides the move() method with a different implementation \n",
    "that prints \"I can run and walk\".\n",
    "\n",
    "When we create an instance of the Dog class and call its move() method, we get the specialized behavior defined \n",
    "in the Dog class.'''"
   ]
  },
  {
   "cell_type": "code",
   "execution_count": null,
   "id": "607b1164-cc96-47a6-9bd0-4ec042dfc5de",
   "metadata": {},
   "outputs": [],
   "source": []
  }
 ],
 "metadata": {
  "kernelspec": {
   "display_name": "Python 3 (ipykernel)",
   "language": "python",
   "name": "python3"
  },
  "language_info": {
   "codemirror_mode": {
    "name": "ipython",
    "version": 3
   },
   "file_extension": ".py",
   "mimetype": "text/x-python",
   "name": "python",
   "nbconvert_exporter": "python",
   "pygments_lexer": "ipython3",
   "version": "3.10.8"
  }
 },
 "nbformat": 4,
 "nbformat_minor": 5
}
