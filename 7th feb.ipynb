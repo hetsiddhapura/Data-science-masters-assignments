{
 "cells": [
  {
   "cell_type": "code",
   "execution_count": 1,
   "id": "0aab7d90-fff9-4b4d-b8a1-c15f0433a3e4",
   "metadata": {},
   "outputs": [
    {
     "name": "stdout",
     "output_type": "stream",
     "text": [
      "hello world\n"
     ]
    }
   ],
   "source": [
    "print(\"hello world\")"
   ]
  },
  {
   "cell_type": "code",
   "execution_count": 80,
   "id": "f2188ed5-d71d-43ed-a1cd-f79bd0fc20b8",
   "metadata": {},
   "outputs": [],
   "source": [
    "def pass_check(x):\n",
    "    upper=lower=num=special=0\n",
    "    import string\n",
    "    \n",
    "    if len(x)!=10 :\n",
    "        return(\"The password should be of 10 characters\")\n",
    "    else :\n",
    "        for i in x :\n",
    "            if i.isdigit() :\n",
    "                num+=1\n",
    "            elif i in string.punctuation :\n",
    "                special+=1\n",
    "            elif i.isupper() :\n",
    "                upper+=1\n",
    "            elif i.islower() :\n",
    "                lower+=1\n",
    "\n",
    "        if upper<2 :\n",
    "            return(\"The password should contain atleast 2 Uppercase alphabets\")\n",
    "        elif lower<2 :\n",
    "            return(\"The password should contain atleast 2 Lowercase alphabets\")\n",
    "        elif num<1 :\n",
    "            return(\"The password should contain atleast 1 numeric number\")\n",
    "        elif special<3 :\n",
    "            return(\"The password should contain atleast 3 special characters\")\n",
    "        else :\n",
    "            print(\"Valid Password\")\n",
    "        "
   ]
  },
  {
   "cell_type": "code",
   "execution_count": 81,
   "id": "89d1b12f-e05a-460f-a22a-ddc8dd51cb63",
   "metadata": {},
   "outputs": [
    {
     "data": {
      "text/plain": [
       "'The password should contain atleast 3 special characters'"
      ]
     },
     "execution_count": 81,
     "metadata": {},
     "output_type": "execute_result"
    }
   ],
   "source": [
    "pass_check('HTht1e1@@2')"
   ]
  },
  {
   "cell_type": "code",
   "execution_count": 84,
   "id": "4c8fe4f0-c721-437c-b4e1-93c9d526ce81",
   "metadata": {},
   "outputs": [],
   "source": [
    "#1.Check if the string starts with a particular letter\n",
    "st_letter = lambda x,y : print(\"yes\",x,'starts with',y) if x[0]==y else print(\"no\",x,\"doesn't starts with\",y) "
   ]
  },
  {
   "cell_type": "code",
   "execution_count": 85,
   "id": "054945d5-2096-4c49-beda-25ad9283ffe7",
   "metadata": {},
   "outputs": [
    {
     "name": "stdout",
     "output_type": "stream",
     "text": [
      "yes het starts with h\n"
     ]
    }
   ],
   "source": [
    "st_letter('het','h')"
   ]
  },
  {
   "cell_type": "code",
   "execution_count": 88,
   "id": "9fecfbfb-1b97-4621-a1aa-2e793d9e2a25",
   "metadata": {},
   "outputs": [],
   "source": [
    "#2.Check if the string is numeric\n",
    "num_check = lambda x : print(\"yes it's numeric\") if x.isdigit() else print(\"no it's not numeric\")"
   ]
  },
  {
   "cell_type": "code",
   "execution_count": 89,
   "id": "c59eb675-ef80-4b31-8b75-d7e4196b8b24",
   "metadata": {},
   "outputs": [
    {
     "name": "stdout",
     "output_type": "stream",
     "text": [
      "no it's not numeric\n"
     ]
    }
   ],
   "source": [
    "num_check('123g')"
   ]
  },
  {
   "cell_type": "code",
   "execution_count": 94,
   "id": "5225a381-5c1f-4c10-ae9c-b2d6bd14eca2",
   "metadata": {},
   "outputs": [],
   "source": [
    "#3. Sort a list of tuples having fruit names and their quantity. \n",
    "l=[(\"mango\",99),(\"orange\",80), (\"grapes\", 1000)]\n",
    "sorted_l = sorted(l,key=lambda x : x[1])"
   ]
  },
  {
   "cell_type": "code",
   "execution_count": 95,
   "id": "440d84cd-3f84-4daa-a945-01979d9a9357",
   "metadata": {},
   "outputs": [
    {
     "data": {
      "text/plain": [
       "[('orange', 80), ('mango', 99), ('grapes', 1000)]"
      ]
     },
     "execution_count": 95,
     "metadata": {},
     "output_type": "execute_result"
    }
   ],
   "source": [
    "sorted_l"
   ]
  },
  {
   "cell_type": "code",
   "execution_count": 97,
   "id": "bef0d71f-c3d6-465f-823a-3eec6750cfd9",
   "metadata": {},
   "outputs": [
    {
     "data": {
      "text/plain": [
       "[1, 4, 9, 16, 25, 36, 49, 64, 81, 100]"
      ]
     },
     "execution_count": 97,
     "metadata": {},
     "output_type": "execute_result"
    }
   ],
   "source": [
    "#4. Find the squares of numbers from 1 to 10\n",
    "l=[]\n",
    "for i in range(1,11):\n",
    "    l.append(i)\n",
    "list(map(lambda x : x**2 , l))"
   ]
  },
  {
   "cell_type": "code",
   "execution_count": 98,
   "id": "b06b611d-2e22-4db1-9337-ebfdc8c780d4",
   "metadata": {},
   "outputs": [
    {
     "data": {
      "text/plain": [
       "[1.0,\n",
       " 1.2599210498948732,\n",
       " 1.4422495703074083,\n",
       " 1.5874010519681994,\n",
       " 1.7099759466766968,\n",
       " 1.8171205928321397,\n",
       " 1.912931182772389,\n",
       " 2.0,\n",
       " 2.080083823051904,\n",
       " 2.154434690031884]"
      ]
     },
     "execution_count": 98,
     "metadata": {},
     "output_type": "execute_result"
    }
   ],
   "source": [
    "#5. Find the cube root of numbers from 1 to 10\n",
    "l=[]\n",
    "for i in range(1,11):\n",
    "    l.append(i)\n",
    "list(map(lambda x : x**(1/3) , l))"
   ]
  },
  {
   "cell_type": "code",
   "execution_count": 99,
   "id": "c2224e55-0974-4cb3-8900-382997511ace",
   "metadata": {},
   "outputs": [],
   "source": [
    "#6. Check if a given number is even\n",
    "even = lambda x : print('yes') if x%2==0 else print('no')"
   ]
  },
  {
   "cell_type": "code",
   "execution_count": 100,
   "id": "a07fd9c2-0c3b-4eb7-b36d-77d50e6d3ec3",
   "metadata": {},
   "outputs": [
    {
     "name": "stdout",
     "output_type": "stream",
     "text": [
      "yes\n"
     ]
    }
   ],
   "source": [
    "even(4)"
   ]
  },
  {
   "cell_type": "code",
   "execution_count": 101,
   "id": "6b198d0c-10f3-4d9b-a235-4512c1496d1e",
   "metadata": {},
   "outputs": [],
   "source": [
    "#7. Filter odd numbers from the given list.\n",
    "l=[1,2,3,4,5,6,7,8,9,10]\n",
    "even = [x for x in l if x%2==0]"
   ]
  },
  {
   "cell_type": "code",
   "execution_count": 102,
   "id": "309ca127-06fc-48c4-ba37-f9306f6dc9d4",
   "metadata": {},
   "outputs": [
    {
     "data": {
      "text/plain": [
       "[2, 4, 6, 8, 10]"
      ]
     },
     "execution_count": 102,
     "metadata": {},
     "output_type": "execute_result"
    }
   ],
   "source": [
    "even"
   ]
  },
  {
   "cell_type": "code",
   "execution_count": 103,
   "id": "f7beaa1e-abb3-4bd8-a44b-eaab546612f3",
   "metadata": {},
   "outputs": [],
   "source": [
    "#8. Sort a list of integers into positive and negative integers lists.\n",
    "l=[1,2,3,4,5,6,-1,-2,-3,-4,-5,0]\n",
    "pos=[x for x in l if x>0]\n",
    "neg=[x for x in l if x<0]\n"
   ]
  },
  {
   "cell_type": "code",
   "execution_count": 105,
   "id": "c8d28016-2ade-462a-9eea-e49ad9f8e241",
   "metadata": {},
   "outputs": [
    {
     "data": {
      "text/plain": [
       "([1, 2, 3, 4, 5, 6], [-1, -2, -3, -4, -5])"
      ]
     },
     "execution_count": 105,
     "metadata": {},
     "output_type": "execute_result"
    }
   ],
   "source": [
    "pos,neg"
   ]
  },
  {
   "cell_type": "code",
   "execution_count": null,
   "id": "955a6a9c-7e0e-4e19-8575-6a8aaa5b21c6",
   "metadata": {},
   "outputs": [],
   "source": []
  }
 ],
 "metadata": {
  "kernelspec": {
   "display_name": "Python 3 (ipykernel)",
   "language": "python",
   "name": "python3"
  },
  "language_info": {
   "codemirror_mode": {
    "name": "ipython",
    "version": 3
   },
   "file_extension": ".py",
   "mimetype": "text/x-python",
   "name": "python",
   "nbconvert_exporter": "python",
   "pygments_lexer": "ipython3",
   "version": "3.10.8"
  }
 },
 "nbformat": 4,
 "nbformat_minor": 5
}
