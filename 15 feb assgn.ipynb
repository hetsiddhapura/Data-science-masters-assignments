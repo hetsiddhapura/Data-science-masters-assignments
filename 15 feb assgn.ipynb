{
 "cells": [
  {
   "cell_type": "code",
   "execution_count": 1,
   "id": "92e72a73-f3ec-45b2-ac5f-34aedbf1c116",
   "metadata": {},
   "outputs": [
    {
     "data": {
      "text/plain": [
       "'Multiprocessing is a module in Python that enables the execution of multiple processes simultaneously. It is useful for tasks that can be divided into smaller sub-tasks, each of which can be run independently on a separate CPU or core.\\n\\nMultiprocessing allows multiple processes to run concurrently, which can significantly improve the performance of CPU-bound tasks, as each process can utilize a separate CPU or core. It can also help to overcome the Global Interpreter Lock (GIL) limitation in Python, which restricts the execution of Python threads to a single CPU or core.\\n\\nHere are some of the key advantages of using multiprocessing in Python:\\n\\nImproved performance: Multiprocessing can lead to improved performance by allowing multiple CPU-bound tasks to be executed simultaneously on separate CPUs or cores.\\n\\nBetter resource utilization: Multiprocessing allows better utilization of system resources such as CPU and memory, as each process can run independently and can utilize its own resources.\\n\\nSimplified programming model: Multiprocessing can simplify the programming model by allowing developers to write independent, modular code that can be run concurrently without the need for complex synchronization mechanisms.\\n\\nPlatform independence: Multiprocessing is platform-independent, meaning that it can be used on a wide range of operating systems and hardware architectures.\\n\\nSome of the disadvantages of multiprocessing include increased memory usage and overhead associated with managing multiple processes, and complexity in communication and synchronization between processes.\\n\\nOverall, multiprocessing is a powerful tool for improving performance and achieving parallelism in Python programs, particularly for CPU-bound tasks that can be divided into smaller sub-tasks. It is a useful alternative to multithreading in cases where true parallelism is required.'"
      ]
     },
     "execution_count": 1,
     "metadata": {},
     "output_type": "execute_result"
    }
   ],
   "source": [
    "#Q1. What is multiprocessing in python? Why is it useful?\n",
    "\"\"\"Multiprocessing is a module in Python that enables the execution of multiple processes simultaneously. It is useful for tasks that can be divided into smaller sub-tasks, each of which can be run independently on a separate CPU or core.\n",
    "\n",
    "Multiprocessing allows multiple processes to run concurrently, which can significantly improve the performance of CPU-bound tasks, as each process can utilize a separate CPU or core. It can also help to overcome the Global Interpreter Lock (GIL) limitation in Python, which restricts the execution of Python threads to a single CPU or core.\n",
    "\n",
    "Here are some of the key advantages of using multiprocessing in Python:\n",
    "\n",
    "Improved performance: Multiprocessing can lead to improved performance by allowing multiple CPU-bound tasks to be executed simultaneously on separate CPUs or cores.\n",
    "\n",
    "Better resource utilization: Multiprocessing allows better utilization of system resources such as CPU and memory, as each process can run independently and can utilize its own resources.\n",
    "\n",
    "Simplified programming model: Multiprocessing can simplify the programming model by allowing developers to write independent, modular code that can be run concurrently without the need for complex synchronization mechanisms.\n",
    "\n",
    "Platform independence: Multiprocessing is platform-independent, meaning that it can be used on a wide range of operating systems and hardware architectures.\n",
    "\n",
    "Some of the disadvantages of multiprocessing include increased memory usage and overhead associated with managing multiple processes, and complexity in communication and synchronization between processes.\n",
    "\n",
    "Overall, multiprocessing is a powerful tool for improving performance and achieving parallelism in Python programs, particularly for CPU-bound tasks that can be divided into smaller sub-tasks. It is a useful alternative to multithreading in cases where true parallelism is required.\"\"\""
   ]
  },
  {
   "cell_type": "code",
   "execution_count": 2,
   "id": "0f19ff9a-bd2d-4925-b7be-2b3e7336cb08",
   "metadata": {},
   "outputs": [
    {
     "data": {
      "text/plain": [
       "'Multiprocessing and multithreading are both techniques used to achieve parallelism and improve the performance of programs, but they differ in several ways:\\n\\nProcesses vs. threads: Multiprocessing creates multiple processes, each with its own memory space and resources, while multithreading creates multiple threads within a single process that share the same memory space.\\n\\nCPU vs. I/O-bound tasks: Multiprocessing is typically used for CPU-bound tasks that can be divided into smaller sub-tasks, each of which can be run independently on a separate CPU or core. Multithreading is more suitable for I/O-bound tasks that involve waiting for input/output operations to complete.\\n\\nOverhead: Multiprocessing can have higher overhead compared to multithreading, due to the need to manage multiple processes and their associated memory spaces. Multithreading has lower overhead as threads share the same memory space and can communicate more easily.\\n\\nCommunication and synchronization: In multiprocessing, inter-process communication and synchronization can be more complex and involve the use of mechanisms such as pipes, queues, and shared memory. In multithreading, communication and synchronization between threads can be simpler and more efficient, using constructs such as locks, semaphores, and condition variables.\\n\\nScalability: Multiprocessing can scale well with the number of CPUs or cores available, as each process can be run on a separate CPU or core. Multithreading, on the other hand, can have diminishing returns as the number of threads increases, due to overhead and contention for shared resources.\\n\\nPlatform independence: Multiprocessing is platform-independent and can be used on a wide range of operating systems and hardware architectures. Multithreading, however, can be limited by the Global Interpreter Lock (GIL) in Python, which restricts the execution of Python threads to a single CPU or core.\\n\\nOverall, the choice between multiprocessing and multithreading depends on the nature of the task at hand, the available hardware resources, and the desired level of parallelism and scalability. Multiprocessing is better suited for CPU-bound tasks that can be divided into smaller sub-tasks, while multithreading is more suitable for I/O-bound tasks that involve waiting for input/output operations to complete.'"
      ]
     },
     "execution_count": 2,
     "metadata": {},
     "output_type": "execute_result"
    }
   ],
   "source": [
    "#Q2. What are the differences between multiprocessing and multithreading?\n",
    "\"\"\"Multiprocessing and multithreading are both techniques used to achieve parallelism and improve the performance of programs, but they differ in several ways:\n",
    "\n",
    "Processes vs. threads: Multiprocessing creates multiple processes, each with its own memory space and resources, while multithreading creates multiple threads within a single process that share the same memory space.\n",
    "\n",
    "CPU vs. I/O-bound tasks: Multiprocessing is typically used for CPU-bound tasks that can be divided into smaller sub-tasks, each of which can be run independently on a separate CPU or core. Multithreading is more suitable for I/O-bound tasks that involve waiting for input/output operations to complete.\n",
    "\n",
    "Overhead: Multiprocessing can have higher overhead compared to multithreading, due to the need to manage multiple processes and their associated memory spaces. Multithreading has lower overhead as threads share the same memory space and can communicate more easily.\n",
    "\n",
    "Communication and synchronization: In multiprocessing, inter-process communication and synchronization can be more complex and involve the use of mechanisms such as pipes, queues, and shared memory. In multithreading, communication and synchronization between threads can be simpler and more efficient, using constructs such as locks, semaphores, and condition variables.\n",
    "\n",
    "Scalability: Multiprocessing can scale well with the number of CPUs or cores available, as each process can be run on a separate CPU or core. Multithreading, on the other hand, can have diminishing returns as the number of threads increases, due to overhead and contention for shared resources.\n",
    "\n",
    "Platform independence: Multiprocessing is platform-independent and can be used on a wide range of operating systems and hardware architectures. Multithreading, however, can be limited by the Global Interpreter Lock (GIL) in Python, which restricts the execution of Python threads to a single CPU or core.\n",
    "\n",
    "Overall, the choice between multiprocessing and multithreading depends on the nature of the task at hand, the available hardware resources, and the desired level of parallelism and scalability. Multiprocessing is better suited for CPU-bound tasks that can be divided into smaller sub-tasks, while multithreading is more suitable for I/O-bound tasks that involve waiting for input/output operations to complete.\"\"\""
   ]
  },
  {
   "cell_type": "code",
   "execution_count": 3,
   "id": "0bb37e47-a312-40e0-afca-cc86c9d12a35",
   "metadata": {},
   "outputs": [
    {
     "name": "stdout",
     "output_type": "stream",
     "text": [
      "Child process running\n",
      "Parent process exiting\n"
     ]
    }
   ],
   "source": [
    "#Q3. Write a python code to create a process using the multiprocessing module.\n",
    "import multiprocessing\n",
    "\n",
    "def worker():\n",
    "    \"\"\"Function run by the child process\"\"\"\n",
    "    print(\"Child process running\")\n",
    "\n",
    "if __name__ == '__main__':\n",
    "    # Create a new process\n",
    "    p = multiprocessing.Process(target=worker)\n",
    "\n",
    "    # Start the process\n",
    "    p.start()\n",
    "\n",
    "    # Wait for the process to finish\n",
    "    p.join()\n",
    "\n",
    "    print(\"Parent process exiting\")\n"
   ]
  },
  {
   "cell_type": "code",
   "execution_count": 4,
   "id": "72bb5bf2-faa2-44a3-807c-e5c9ed9af3a6",
   "metadata": {},
   "outputs": [
    {
     "data": {
      "text/plain": [
       "\"In Python's multiprocessing module, a multiprocessing pool is a way to create a pool of worker processes that can be used to parallelize the execution of a function across multiple inputs. The pool provides a simple way to distribute work across multiple processes and manage their execution.\\n\\nA multiprocessing pool is created using the Pool class from the multiprocessing module. The Pool class provides several methods for submitting tasks to the pool and retrieving their results. The map, imap, imap_unordered, and apply_async methods are commonly used to parallelize the execution of a function across multiple inputs.\\n\\nThe map method applies a function to each element of an iterable and returns a list of the results. The imap method is similar, but returns an iterator instead of a list, which can be useful for large inputs that don't fit in memory. The imap_unordered method is similar to imap, but returns the results in arbitrary order. The apply_async method allows you to submit a function and its arguments to the pool for execution, and returns a AsyncResult object that can be used to retrieve the result.\\n\\nThe main advantage of using a multiprocessing pool is that it can speed up the execution of CPU-bound tasks by distributing the work across multiple processes. This can lead to significant improvements in performance, especially on systems with multiple CPUs or cores. It also simplifies the process of parallelizing code, since the pool takes care of creating and managing the worker processes\""
      ]
     },
     "execution_count": 4,
     "metadata": {},
     "output_type": "execute_result"
    }
   ],
   "source": [
    "#Q4. What is a multiprocessing pool in python? Why is it used?\n",
    "\"\"\"In Python's multiprocessing module, a multiprocessing pool is a way to create a pool of worker processes that can be used to parallelize the execution of a function across multiple inputs. The pool provides a simple way to distribute work across multiple processes and manage their execution.\n",
    "\n",
    "A multiprocessing pool is created using the Pool class from the multiprocessing module. The Pool class provides several methods for submitting tasks to the pool and retrieving their results. The map, imap, imap_unordered, and apply_async methods are commonly used to parallelize the execution of a function across multiple inputs.\n",
    "\n",
    "The map method applies a function to each element of an iterable and returns a list of the results. The imap method is similar, but returns an iterator instead of a list, which can be useful for large inputs that don't fit in memory. The imap_unordered method is similar to imap, but returns the results in arbitrary order. The apply_async method allows you to submit a function and its arguments to the pool for execution, and returns a AsyncResult object that can be used to retrieve the result.\n",
    "\n",
    "The main advantage of using a multiprocessing pool is that it can speed up the execution of CPU-bound tasks by distributing the work across multiple processes. This can lead to significant improvements in performance, especially on systems with multiple CPUs or cores. It also simplifies the process of parallelizing code, since the pool takes care of creating and managing the worker processes\"\"\""
   ]
  },
  {
   "cell_type": "code",
   "execution_count": 5,
   "id": "0cff2cad-cf1d-43d1-ad64-ca783d4ccf3d",
   "metadata": {},
   "outputs": [
    {
     "name": "stdout",
     "output_type": "stream",
     "text": [
      "Worker 0 startedWorker 1 startedWorker 3 startedWorker 2 started\n",
      "\n",
      "\n",
      "\n",
      "Worker 1 finishedWorker 0 finishedWorker 3 finishedWorker 2 finished\n",
      "\n",
      "\n",
      "\n",
      "All workers finished\n"
     ]
    },
    {
     "data": {
      "text/plain": [
       "'In this code, we first define a function worker that will be executed in parallel by the worker processes. We then create a pool of 4 worker processes using the Pool class constructor, passing the number of processes as an argument.\\n\\nWe submit jobs to the pool using the apply_async method, which schedules a function to be executed by one of the worker processes. We pass the worker function and an argument (i) to identify the worker.\\n\\nWe then wait for all jobs to finish using the close and join methods of the pool. The close method indicates that no more jobs will be submitted to the pool, and the join method waits for all jobs to finish.\\n\\nFinally, we print a message indicating that all workers have finished. This message is printed after all jobs have been executed by the worker processes'"
      ]
     },
     "execution_count": 5,
     "metadata": {},
     "output_type": "execute_result"
    }
   ],
   "source": [
    "#Q5. How can we create a pool of worker processes in python using the multiprocessing module?\n",
    "\"\"\"To create a pool of worker processes in Python using the multiprocessing module, you can use the Pool class. Here's an example code that demonstrates how to create a pool of worker processes:\n",
    "\"\"\"\n",
    "import multiprocessing\n",
    "\n",
    "def worker(number):\n",
    "    \"\"\"Function to be executed in parallel\"\"\"\n",
    "    print(f\"Worker {number} started\")\n",
    "    # do some work here\n",
    "    print(f\"Worker {number} finished\")\n",
    "\n",
    "if __name__ == '__main__':\n",
    "    # Create a pool of 4 worker processes\n",
    "    with multiprocessing.Pool(processes=4) as pool:\n",
    "        # Submit jobs to the pool\n",
    "        for i in range(4):\n",
    "            pool.apply_async(worker, args=(i,))\n",
    "        # Wait for all jobs to finish\n",
    "        pool.close()\n",
    "        pool.join()\n",
    "    print(\"All workers finished\")\n",
    "\"\"\"In this code, we first define a function worker that will be executed in parallel by the worker processes. We then create a pool of 4 worker processes using the Pool class constructor, passing the number of processes as an argument.\n",
    "\n",
    "We submit jobs to the pool using the apply_async method, which schedules a function to be executed by one of the worker processes. We pass the worker function and an argument (i) to identify the worker.\n",
    "\n",
    "We then wait for all jobs to finish using the close and join methods of the pool. The close method indicates that no more jobs will be submitted to the pool, and the join method waits for all jobs to finish.\n",
    "\n",
    "Finally, we print a message indicating that all workers have finished. This message is printed after all jobs have been executed by the worker processes\"\"\""
   ]
  },
  {
   "cell_type": "code",
   "execution_count": 6,
   "id": "15b69496-dbc1-4dfd-99e1-e52a45cbde55",
   "metadata": {},
   "outputs": [
    {
     "name": "stdout",
     "output_type": "stream",
     "text": [
      "Process 0: 0\n",
      "Process 1: 1\n",
      "Process 2: 2\n",
      "Process 3: 3\n"
     ]
    }
   ],
   "source": [
    "#Q6. Write a python program to create 4 processes, each process should print a different number using the\n",
    "#multiprocessing module in python.\n",
    "import multiprocessing\n",
    "\n",
    "def print_number(num):\n",
    "    print(f\"Process {num}: {num}\")\n",
    "\n",
    "if __name__ == '__main__':\n",
    "    processes = []\n",
    "    for i in range(4):\n",
    "        process = multiprocessing.Process(target=print_number, args=(i,))\n",
    "        processes.append(process)\n",
    "        process.start()\n",
    "    \n",
    "    for process in processes:\n",
    "        process.join()\n"
   ]
  },
  {
   "cell_type": "code",
   "execution_count": null,
   "id": "fc307733-ba1a-4016-9ffb-de10d0974126",
   "metadata": {},
   "outputs": [],
   "source": []
  }
 ],
 "metadata": {
  "kernelspec": {
   "display_name": "Python 3 (ipykernel)",
   "language": "python",
   "name": "python3"
  },
  "language_info": {
   "codemirror_mode": {
    "name": "ipython",
    "version": 3
   },
   "file_extension": ".py",
   "mimetype": "text/x-python",
   "name": "python",
   "nbconvert_exporter": "python",
   "pygments_lexer": "ipython3",
   "version": "3.10.8"
  }
 },
 "nbformat": 4,
 "nbformat_minor": 5
}
