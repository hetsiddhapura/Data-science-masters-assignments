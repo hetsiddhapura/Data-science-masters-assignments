{
 "cells": [
  {
   "cell_type": "code",
   "execution_count": 1,
   "id": "dd5f6eba-09e5-42cb-adcb-a48efc8b4015",
   "metadata": {},
   "outputs": [
    {
     "name": "stdout",
     "output_type": "stream",
     "text": [
      "hello world\n"
     ]
    }
   ],
   "source": [
    "print('hello world')"
   ]
  },
  {
   "cell_type": "raw",
   "id": "1280c191",
   "metadata": {},
   "source": [
    "#Q1. What are the characteristics of the tuples? Is tuple immutable?\n",
    "A tuple is a collection of ordered, immutable elements. \n",
    "This means that once a tuple is created, its elements cannot be changed. \n",
    "Tuples are similar to lists in Python, but the main difference is that tuples are immutable, \n",
    "while lists are mutable.\n",
    "\n",
    "Some characteristics of tuples in Python are:\n",
    "\n",
    "Tuples are defined using parentheses, and their elements are separated by commas.\n",
    "Tuples can contain elements of different data types, including numbers, strings, and other tuples.\n",
    "Tuples are indexed starting at 0, just like lists.\n",
    "Tuples support slicing, which means you can extract a subset of the elements from a tuple.\n",
    "Tuples are often used for grouping related data together, such as a set of coordinates or a person's name and age.\n",
    "In summary, tuples are a type of collection in Python that is immutable, ordered, \n",
    "and can contain elements of different data types."
   ]
  },
  {
   "cell_type": "raw",
   "id": "66027ad0",
   "metadata": {},
   "source": [
    "#Q2. What are the two tuple methods in python? Give an example of each method. Give a reason why\n",
    "tuples have only two in-built methods as compared to Lists.\n",
    "count(): This method returns the number of times a specified element appears in the tuple.\n",
    "Example:\n",
    "\n",
    "my_tuple = (1, 2, 3, 4, 3, 5, 3)\n",
    "print(my_tuple.count(3)) # Output: 3\n",
    "index(): This method returns the index of the first occurrence of a specified element in the tuple.\n",
    "Example:\n",
    "\n",
    "my_tuple = (1, 2, 3, 4, 3, 5, 3)\n",
    "print(my_tuple.index(3)) # Output: 2\n",
    "Tuples have only two in-built methods, i.e., count() and index() as compared to lists because \n",
    "tuples are designed to be immutable. Once a tuple is created, its elements cannot be modified or removed. \n",
    "Since lists are mutable, they have many methods such as append(), pop(), remove(), insert(), etc., \n",
    "that can modify the list. However, since tuples cannot be modified, \n",
    "they only have the two methods count() and index() that do not modify the tupl"
   ]
  },
  {
   "cell_type": "code",
   "execution_count": 3,
   "id": "3c2d1686-b3a9-46a2-822d-f2d903849049",
   "metadata": {},
   "outputs": [
    {
     "data": {
      "text/plain": [
       "{1, 2, 3, 4}"
      ]
     },
     "execution_count": 3,
     "metadata": {},
     "output_type": "execute_result"
    }
   ],
   "source": [
    "#Q3. Which collection datatypes in python do not allow duplicate items? Write a code using a set to remove\n",
    "#duplicates from the given list.\n",
    "#In Python, the set and frozenset collection datatypes do not allow duplicate items.\n",
    "List = [1, 1, 1, 2, 1, 3, 1, 4, 2, 1, 2, 2, 2, 3, 2, 4, 3, 1, 3, 2, 3, 3, 3, 4, 4, 1, 4, 2, 4, 3, 4, 4]\n",
    "myset={1, 1, 1, 2, 1, 3, 1, 4, 2, 1, 2, 2, 2, 3, 2, 4, 3, 1, 3, 2, 3, 3, 3, 4, 4, 1, 4, 2, 4, 3, 4, 4}\n",
    "myset"
   ]
  },
  {
   "cell_type": "raw",
   "id": "5c2d8fb9",
   "metadata": {},
   "source": [
    "Q4. Explain the difference between the union() and update() methods for a set. Give an example of\n",
    "each method.\n",
    "Both union() and update() methods are used to combine two or more sets into a single set, but they differ in how \n",
    "they modify the original set.\n",
    "\n",
    "The union() method returns a new set that contains all the unique elements from the original set and the set(s) \n",
    "passed as argument(s), without modifying the original set. It creates a new set that is a union of the sets, \n",
    "i.e., it contains all the unique elements present in both sets.\n",
    "\n",
    "Example of union() method:\n",
    "\n",
    "set1 = {1, 2, 3, 4, 5}\n",
    "set2 = {4, 5, 6, 7, 8}\n",
    "set3 = set1.union(set2)  # create a new set that is a union of set1 and set2\n",
    "print(set3) # output: {1, 2, 3, 4, 5, 6, 7, 8}\n",
    "print(set1) # output: {1, 2, 3, 4, 5} (original set1 is not modified)\n",
    "On the other hand, the update() method modifies the original set by adding all the unique elements from the set(s) \n",
    "passed as argument(s) to the original set. It performs an in-place union of the sets, i.e., it adds all the unique \n",
    "elements present in both sets to the original set.\n",
    "\n",
    "Example of update() method:\n",
    "\n",
    "set1 = {1, 2, 3, 4, 5}\n",
    "set2 = {4, 5, 6, 7, 8}\n",
    "set1.update(set2)  # add all the unique elements from set2 to set1\n",
    "print(set1) # output: {1, 2, 3, 4, 5, 6, 7, 8} (set1 is modified in-place)\n",
    "In summary, union() creates a new set that is a union of the original set and the set(s) passed as argument(s), \n",
    "without modifying the original set, while update() modifies the original set by adding all the unique elements from \n",
    "the set(s) passed as argument(s) to the original set."
   ]
  },
  {
   "cell_type": "raw",
   "id": "cc8068e1",
   "metadata": {},
   "source": [
    "Q5. What is a dictionary? Give an example. Also, state whether a dictionary is ordered or unordered.\n",
    "In Python, a dictionary is a collection data type that stores data as key-value pairs. Each key in the dictionary maps to a unique value, similar to how words in a dictionary map to their definitions. Dictionaries are also sometimes referred to as \"maps\", \"hash tables\", or \"associative arrays\" in other programming languages.\n",
    "\n",
    "Dictionaries are defined using curly braces {} and key-value pairs separated by a colon :. The keys and values can be of any data type, and different keys can have different value types.\n",
    "\n",
    "Here's an example of a dictionary that stores information about a person:\n",
    "\n",
    "person = {'name': 'John', 'age': 25, 'city': 'New York'}\n",
    "\n",
    "# Accessing dictionary elements using keys\n",
    "print(person['name']) # output: John\n",
    "print(person['age']) # output: 25\n",
    "print(person['city']) # output: New York\n",
    "\n",
    "# Modifying dictionary elements using keys\n",
    "person['age'] = 30\n",
    "print(person['age']) # output: 30\n",
    "\n",
    "# Adding new key-value pairs to the dictionary\n",
    "person['occupation'] = 'Software Engineer'\n",
    "print(person) # output: {'name': 'John', 'age': 30, 'city': 'New York', 'occupation': 'Software Engineer'}\n",
    "It is important to note that dictionaries are unordered, meaning the order in which the key-value pairs are stored in the dictionary is not guaranteed. Starting from Python 3.7, dictionaries are guaranteed to maintain the order of insertion, but it is still recommended to treat them as unordered for backward compatibility."
   ]
  },
  {
   "cell_type": "raw",
   "id": "1fdf690a",
   "metadata": {},
   "source": [
    "Q6. Can we create a nested dictionary? If so, please give an example by creating a simple one-level\n",
    "nested dictionary.\n",
    "Yes, we can create a nested dictionary in Python. A nested dictionary is a dictionary that contains one or more dictionaries as values for its keys. These dictionaries can themselves contain keys and values, allowing for more complex data structures to be created.\n",
    "\n",
    "Here is an example of a simple one-level nested dictionary:\n",
    "# creating a nested dictionary\n",
    "person = {'name': 'John', 'age': 25, 'address': {'city': 'New York', 'zipcode': '10001'}}\n",
    "\n",
    "# accessing dictionary elements\n",
    "print(person['name']) # output: John\n",
    "print(person['age']) # output: 25\n",
    "print(person['address']['city']) # output: New York\n",
    "print(person['address']['zipcode']) # output: 10001\n",
    "\n",
    "# modifying dictionary elements\n",
    "person['address']['city'] = 'Los Angeles'\n",
    "person['address']['zipcode'] = '90001'\n",
    "print(person) # output: {'name': 'John', 'age': 25, 'address': {'city': 'Los Angeles', 'zipcode': '90001'}}\n",
    "In this example, the person dictionary contains a nested dictionary for the address key. The address dictionary itself contains two key-value pairs for city and zipcode. We can access and modify elements in the nested dictionary by using the appropriate keys"
   ]
  },
  {
   "cell_type": "code",
   "execution_count": 5,
   "id": "eb918279",
   "metadata": {},
   "outputs": [
    {
     "name": "stdout",
     "output_type": "stream",
     "text": [
      "{'language': 'Python', 'course': 'Data Science Masters', 'topics': ['Python', 'Machine Learning', 'Deep Learning']}\n"
     ]
    }
   ],
   "source": [
    "#Q7\n",
    "dict1 = {'language' : 'Python', 'course': 'Data Science Masters'}\n",
    "\n",
    "# using setdefault() method to add new key and value\n",
    "dict1.setdefault('topics', ['Python', 'Machine Learning', 'Deep Learning'])\n",
    "\n",
    "# printing the updated dictionary\n",
    "print(dict1) # output: {'name': 'John', 'age': 25, 'topics': ['Python', 'Machine Learning', 'Deep Learning']}\n"
   ]
  },
  {
   "cell_type": "code",
   "execution_count": null,
   "id": "c75a5774",
   "metadata": {},
   "outputs": [],
   "source": [
    "#Q8\n",
    "dict1 = {'Sport': 'Cricket', 'Teams': ['India', 'Australia', 'England', 'South Africa', 'Sri Lanka', 'New Zealand']}\n",
    "\n",
    "# displaying the view object for keys\n",
    "print(dict1.keys()) # output: dict_keys(['Sport', 'Teams'])\n",
    "\n",
    "# displaying the view object for values\n",
    "print(dict1.values()) # output: dict_values(['Cricket', ['India', 'Australia', 'England', 'South Africa', 'Sri Lanka', 'New Zealand']])\n",
    "\n",
    "# displaying the view object for key-value pairs\n",
    "print(dict1.items()) # output: dict_items([('Sport', 'Cricket'), ('Teams', ['India', 'Australia', 'England', 'South Africa', 'Sri Lanka', 'New Zealand'])])\n"
   ]
  }
 ],
 "metadata": {
  "kernelspec": {
   "display_name": "Python 3 (ipykernel)",
   "language": "python",
   "name": "python3"
  },
  "language_info": {
   "codemirror_mode": {
    "name": "ipython",
    "version": 3
   },
   "file_extension": ".py",
   "mimetype": "text/x-python",
   "name": "python",
   "nbconvert_exporter": "python",
   "pygments_lexer": "ipython3",
   "version": "3.9.13"
  }
 },
 "nbformat": 4,
 "nbformat_minor": 5
}
