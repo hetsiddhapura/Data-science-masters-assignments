{
 "cells": [
  {
   "cell_type": "code",
   "execution_count": 1,
   "id": "0523e1e3-f2c6-4ad4-aa26-40d5371e07ab",
   "metadata": {},
   "outputs": [
    {
     "name": "stdout",
     "output_type": "stream",
     "text": [
      "The car is now going at 80 km/h.\n",
      "The car is now going at 70 km/h.\n",
      "The car is turning left\n"
     ]
    },
    {
     "data": {
      "text/plain": [
       "'In the example above, we have defined a Car class with its attributes and methods. We then created an object of \\nthe Car class called \"my_car\" and initialized it with the specific data. We then used the object\\'s methods to \\nchange its behavior by accelerating, braking, and turning.'"
      ]
     },
     "execution_count": 1,
     "metadata": {},
     "output_type": "execute_result"
    }
   ],
   "source": [
    "#Q1. Explain Class and Object with respect to Object-Oriented Programming. Give a suitable example.\n",
    "'''In object-oriented programming, a class is a blueprint or a template for creating objects that share common \n",
    "attributes and behaviors. It defines the structure and behavior of objects that belong to that class. \n",
    "An object, on the other hand, is an instance of a class that has its own set of data and behavior. \n",
    "It is created using the constructor of the class.\n",
    "\n",
    "For example, consider the class \"Car\". It might have attributes such as color, model, make, and speed, \n",
    "and methods such as accelerate, brake, and turn. These attributes and methods define the behavior and properties \n",
    "of a car. To create an object of the Car class, you can use the constructor to initialize the object with specific \n",
    "data, such as color, model, and make.\n",
    "'''\n",
    "# Defining a Car class\n",
    "class Car:\n",
    "    def __init__(self, color, model, make, speed):\n",
    "        self.color = color\n",
    "        self.model = model\n",
    "        self.make = make\n",
    "        self.speed = speed\n",
    "    \n",
    "    def accelerate(self, speed_increase):\n",
    "        self.speed += speed_increase\n",
    "        print(\"The car is now going at\", self.speed, \"km/h.\")\n",
    "    \n",
    "    def brake(self, speed_decrease):\n",
    "        self.speed -= speed_decrease\n",
    "        if self.speed < 0:\n",
    "            self.speed = 0\n",
    "        print(\"The car is now going at\", self.speed, \"km/h.\")\n",
    "    \n",
    "    def turn(self, direction):\n",
    "        print(\"The car is turning\", direction)\n",
    "\n",
    "# Creating a Car object\n",
    "my_car = Car(\"blue\", \"sedan\", \"Honda\", 60)\n",
    "\n",
    "# Using object methods\n",
    "my_car.accelerate(20)\n",
    "my_car.brake(10)\n",
    "my_car.turn(\"left\")\n",
    "'''In the example above, we have defined a Car class with its attributes and methods. We then created an object of \n",
    "the Car class called \"my_car\" and initialized it with the specific data. We then used the object's methods to \n",
    "change its behavior by accelerating, braking, and turning.'''"
   ]
  },
  {
   "cell_type": "code",
   "execution_count": 2,
   "id": "50201b21-ad15-4866-8792-9b035b31a170",
   "metadata": {},
   "outputs": [
    {
     "data": {
      "text/plain": [
       "'Encapsulation: Encapsulation is the process of hiding the internal details of an object from the outside world \\nand exposing only the necessary information through a public interface. This helps in preventing unintended \\nmodification or misuse of the object.\\n\\nAbstraction: Abstraction is the process of extracting essential features from a complex entity and presenting only \\nthe relevant details to the user. It provides a simplified view of the object by hiding its implementation details.\\n\\nInheritance: Inheritance is the process of creating new classes from existing classes. It allows a new class to \\ninherit the properties and methods of an existing class, and to add new properties and methods to the new class.\\n\\nPolymorphism: Polymorphism is the ability of an object to take on many forms or shapes. It allows objects of \\ndifferent classes to be used interchangeably, as long as they have the same interface or behavior. Polymorphism \\ncan be achieved through method overloading or method overriding.'"
      ]
     },
     "execution_count": 2,
     "metadata": {},
     "output_type": "execute_result"
    }
   ],
   "source": [
    "#Q2. Name the four pillars of OOPs.\n",
    "'''Encapsulation: Encapsulation is the process of hiding the internal details of an object from the outside world \n",
    "and exposing only the necessary information through a public interface. This helps in preventing unintended \n",
    "modification or misuse of the object.\n",
    "\n",
    "Abstraction: Abstraction is the process of extracting essential features from a complex entity and presenting only \n",
    "the relevant details to the user. It provides a simplified view of the object by hiding its implementation details.\n",
    "\n",
    "Inheritance: Inheritance is the process of creating new classes from existing classes. It allows a new class to \n",
    "inherit the properties and methods of an existing class, and to add new properties and methods to the new class.\n",
    "\n",
    "Polymorphism: Polymorphism is the ability of an object to take on many forms or shapes. It allows objects of \n",
    "different classes to be used interchangeably, as long as they have the same interface or behavior. Polymorphism \n",
    "can be achieved through method overloading or method overriding.'''"
   ]
  },
  {
   "cell_type": "code",
   "execution_count": 3,
   "id": "62f183d3-0c35-45cf-8e9b-c3443b582bc3",
   "metadata": {},
   "outputs": [
    {
     "name": "stdout",
     "output_type": "stream",
     "text": [
      "Area: 50\n",
      "Perimeter: 30\n"
     ]
    }
   ],
   "source": [
    "#Q3Explain why the __init__() function is used. Give a suitable example.\n",
    "'''In Python, the __init__() function is a special method that is used to initialize an object of a class. \n",
    "It is called automatically when an object of the class is created, and it can be used to set the initial values \n",
    "of the object's attributes.\n",
    "\n",
    "The __init__() function takes the self parameter, which refers to the object being created, and any other \n",
    "parameters that are needed to initialize the object's attributes.\n",
    "\n",
    "Here is an example of using the __init__() function to initialize the attributes of a class called Rectangle:\n",
    "'''\n",
    "class Rectangle:\n",
    "    def __init__(self, length, width):\n",
    "        self.length = length\n",
    "        self.width = width\n",
    "\n",
    "    def area(self):\n",
    "        return self.length * self.width\n",
    "\n",
    "    def perimeter(self):\n",
    "        return 2 * (self.length + self.width)\n",
    "\n",
    "# Creating an object of the Rectangle class\n",
    "r = Rectangle(5, 10)\n",
    "\n",
    "# Printing the area and perimeter of the rectangle\n",
    "print(\"Area:\", r.area())\n",
    "print(\"Perimeter:\", r.perimeter())"
   ]
  },
  {
   "cell_type": "code",
   "execution_count": 4,
   "id": "316cd2e0-f921-45a4-81c1-670bb4451302",
   "metadata": {},
   "outputs": [
    {
     "name": "stdout",
     "output_type": "stream",
     "text": [
      "Woof! My name is Fido\n"
     ]
    }
   ],
   "source": [
    "#Q4. Why self is used in OOPs?\n",
    "'''In Object-Oriented Programming (OOP), self is a reference to the instance of a class that a method is being \n",
    "called on. It is used to access the attributes and methods of the object, and to modify its state.\n",
    "\n",
    "When a method is called on an object, the self parameter is automatically passed as the first argument to the\n",
    "method, and it refers to the object itself. This allows the method to access and modify the object's attributes \n",
    "and call its methods.\n",
    "\n",
    "For example, consider the following class:'''\n",
    "class Dog:\n",
    "    def __init__(self, name, breed):\n",
    "        self.name = name\n",
    "        self.breed = breed\n",
    "\n",
    "    def bark(self):\n",
    "        print(\"Woof! My name is\", self.name)\n",
    "\n",
    "my_dog = Dog(\"Fido\", \"Labrador\")\n",
    "my_dog.bark()"
   ]
  }
 ],
 "metadata": {
  "kernelspec": {
   "display_name": "Python 3 (ipykernel)",
   "language": "python",
   "name": "python3"
  },
  "language_info": {
   "codemirror_mode": {
    "name": "ipython",
    "version": 3
   },
   "file_extension": ".py",
   "mimetype": "text/x-python",
   "name": "python",
   "nbconvert_exporter": "python",
   "pygments_lexer": "ipython3",
   "version": "3.10.8"
  }
 },
 "nbformat": 4,
 "nbformat_minor": 5
}
