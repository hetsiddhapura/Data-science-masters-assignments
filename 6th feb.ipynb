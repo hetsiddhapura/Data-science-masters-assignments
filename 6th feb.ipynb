{
 "cells": [
  {
   "cell_type": "code",
   "execution_count": 3,
   "id": "6b9832d7-9833-4579-9a11-b3395e0cc07b",
   "metadata": {},
   "outputs": [],
   "source": [
    "list1 = [1,2,3,4, [44,55,66, True], False, (34,56,78,89,34), {1,2,3,3,2,1}, {1:34, \"key2\": [55, 67, 78, 89], 4: (45,\n",
    "22, 61, 34)}, [56, 'data science'], 'Machine Learning']"
   ]
  },
  {
   "cell_type": "code",
   "execution_count": 2,
   "id": "66e89d81-2e31-41c4-b651-d2c25557076a",
   "metadata": {},
   "outputs": [
    {
     "data": {
      "text/plain": [
       "[1,\n",
       " 2,\n",
       " 3,\n",
       " 4,\n",
       " [44, 55, 66, True],\n",
       " False,\n",
       " (34, 56, 78, 89, 34),\n",
       " {1, 2, 3},\n",
       " {1: 34, 'key2': [55, 67, 78, 89], 4: (45, 22, 61, 34)},\n",
       " [56, 'data science'],\n",
       " 'Machine Learning']"
      ]
     },
     "execution_count": 2,
     "metadata": {},
     "output_type": "execute_result"
    }
   ],
   "source": [
    "list1"
   ]
  },
  {
   "cell_type": "code",
   "execution_count": 8,
   "id": "7b6774d1-9e01-4244-b59c-59eef0234572",
   "metadata": {},
   "outputs": [
    {
     "data": {
      "text/plain": [
       "[55, 67, 78, 89]"
      ]
     },
     "execution_count": 8,
     "metadata": {},
     "output_type": "execute_result"
    }
   ],
   "source": [
    "list1[8]['key2']"
   ]
  },
  {
   "cell_type": "code",
   "execution_count": 45,
   "id": "5e4e7639-6724-413f-b399-4e370965fd7c",
   "metadata": {},
   "outputs": [],
   "source": [
    "def prod_of_list(lst):\n",
    "    l=[]\n",
    "    for i in list1:\n",
    "        if type(i) == int :\n",
    "            l.append(i)\n",
    "        elif type(i) == list :\n",
    "            for j in i :\n",
    "                if type(j) == int :\n",
    "                    l.append(j)\n",
    "        elif type(i) == tuple :\n",
    "            for n in i :\n",
    "                if type(n) == int :\n",
    "                    l.append(n)\n",
    "        elif type(i) == set :\n",
    "            for m in i :\n",
    "                if type(m) == int :\n",
    "                    l.append(m)\n",
    "        elif type(i) == dict :\n",
    "            for k,v in i.items() :\n",
    "                if type(k) == int :\n",
    "                    l.append(k)\n",
    "                elif type(k) == list or type(k) == set or type(k) == tuple:\n",
    "                    for a in k :\n",
    "                        if type(a) == int :\n",
    "                            l.append(a)\n",
    "                if type(v) == int :\n",
    "                    l.append(v)\n",
    "                elif type(v) == list or type(v) == set or type(v) == tuple :\n",
    "                    for b in v :\n",
    "                        if type(b) == int :\n",
    "                            l.append(b)\n",
    "\n",
    "    product=1\n",
    "    for c in l:\n",
    "        product=product*c\n",
    "    return product"
   ]
  },
  {
   "cell_type": "code",
   "execution_count": 46,
   "id": "0565dcf2-61a1-4409-a9b8-eb42b60fef77",
   "metadata": {},
   "outputs": [
    {
     "data": {
      "text/plain": [
       "4134711838987085478833841242112000"
      ]
     },
     "execution_count": 46,
     "metadata": {},
     "output_type": "execute_result"
    }
   ],
   "source": [
    "prod_of_list(list1)"
   ]
  },
  {
   "cell_type": "code",
   "execution_count": 47,
   "id": "a8da35a0-ab56-4669-96b0-f8450f083946",
   "metadata": {},
   "outputs": [
    {
     "name": "stdout",
     "output_type": "stream",
     "text": [
      "a b c d e f g h i j k l m n o p q r s t u v w x y z "
     ]
    }
   ],
   "source": [
    "for letter in range(ord('a'), ord('z')+1):\n",
    "    print(chr(letter), end=' ')"
   ]
  },
  {
   "cell_type": "code",
   "execution_count": 48,
   "id": "1767e96b-f5d4-4e69-b227-e06e3df62d32",
   "metadata": {},
   "outputs": [
    {
     "name": "stdout",
     "output_type": "stream",
     "text": [
      "r$dzmg$gl$yvxlnv$z$wzgz$hxrvmgrhg.\n"
     ]
    }
   ],
   "source": [
    "def encrypt_message(message):\n",
    "    encrypted_message = \"\"\n",
    "    for char in message.lower():\n",
    "        if char == \" \":\n",
    "            encrypted_message += \"$\"\n",
    "        elif char.isalpha():\n",
    "            encrypted_message += chr(ord(\"a\") + (ord(\"z\") - ord(char)))\n",
    "        else:\n",
    "            encrypted_message += char\n",
    "    return encrypted_message\n",
    "\n",
    "input_sentence = \"I want to become a Data Scientist.\"\n",
    "encrypted_sentence = encrypt_message(input_sentence)\n",
    "print(encrypted_sentence)\n"
   ]
  },
  {
   "cell_type": "code",
   "execution_count": null,
   "id": "1ab8055b-3d41-43c9-91d1-0fd53e84f5af",
   "metadata": {},
   "outputs": [],
   "source": []
  }
 ],
 "metadata": {
  "kernelspec": {
   "display_name": "Python 3 (ipykernel)",
   "language": "python",
   "name": "python3"
  },
  "language_info": {
   "codemirror_mode": {
    "name": "ipython",
    "version": 3
   },
   "file_extension": ".py",
   "mimetype": "text/x-python",
   "name": "python",
   "nbconvert_exporter": "python",
   "pygments_lexer": "ipython3",
   "version": "3.10.8"
  }
 },
 "nbformat": 4,
 "nbformat_minor": 5
}
