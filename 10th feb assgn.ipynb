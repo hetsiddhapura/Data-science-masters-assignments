{
 "cells": [
  {
   "cell_type": "code",
   "execution_count": 1,
   "id": "5116be14-a1e9-4aa3-8163-d48855f25fe0",
   "metadata": {},
   "outputs": [
    {
     "data": {
      "text/plain": [
       "\"In Python, the open() function is used to open a file.\\n\\nSyntax: open(file, mode='r', buffering=-1, encoding=None, errors=None, newline=None, closefd=True, opener=None)\\n\\nThe second argument of the open() function specifies the mode in which the file is to be opened. There are different modes in which a file can be opened:\\n\\n'r' (read mode): It is the default mode. This mode opens a file for reading. If the file does not exist, it will raise a FileNotFoundError exception.\\n\\n'w' (write mode): This mode opens a file for writing. If the file already exists, it will be truncated. If the file does not exist, it will be created.\\n\\n'a' (append mode): This mode opens a file for writing, but it does not truncate the file. Instead, it appends new data to the end of the file. If the file does not exist, it will be created.\\n\\n'x' (exclusive creation mode): This mode opens a file for exclusive creation. If the file already exists, it will raise a FileExistsError exception. If the file does not exist, it will be created.\\n\\n'b' (binary mode): This mode is used when the file is opened in binary mode. It is used to read or write binary data.\\n\\n't' (text mode): This mode is used when the file is opened in text mode. It is used to read or write text data.\\n\\n'+' (read and write mode): This mode is used when the file is opened for both reading and writing. It is usually used in combination with other modes.\""
      ]
     },
     "execution_count": 1,
     "metadata": {},
     "output_type": "execute_result"
    }
   ],
   "source": [
    "#Q1. Which function is used to open a file? What are the different modes of opening a file? Explain each mode\n",
    "#of file opening.\n",
    "\"\"\"In Python, the open() function is used to open a file.\n",
    "\n",
    "Syntax: open(file, mode='r', buffering=-1, encoding=None, errors=None, newline=None, closefd=True, opener=None)\n",
    "\n",
    "The second argument of the open() function specifies the mode in which the file is to be opened. There are different modes in which a file can be opened:\n",
    "\n",
    "'r' (read mode): It is the default mode. This mode opens a file for reading. If the file does not exist, it will raise a FileNotFoundError exception.\n",
    "\n",
    "'w' (write mode): This mode opens a file for writing. If the file already exists, it will be truncated. If the file does not exist, it will be created.\n",
    "\n",
    "'a' (append mode): This mode opens a file for writing, but it does not truncate the file. Instead, it appends new data to the end of the file. If the file does not exist, it will be created.\n",
    "\n",
    "'x' (exclusive creation mode): This mode opens a file for exclusive creation. If the file already exists, it will raise a FileExistsError exception. If the file does not exist, it will be created.\n",
    "\n",
    "'b' (binary mode): This mode is used when the file is opened in binary mode. It is used to read or write binary data.\n",
    "\n",
    "'t' (text mode): This mode is used when the file is opened in text mode. It is used to read or write text data.\n",
    "\n",
    "'+' (read and write mode): This mode is used when the file is opened for both reading and writing. It is usually used in combination with other modes.\"\"\"\n",
    "\n"
   ]
  },
  {
   "cell_type": "code",
   "execution_count": 2,
   "id": "acf5aa17-2a2e-4a1b-9f2e-e5873833a059",
   "metadata": {},
   "outputs": [
    {
     "data": {
      "text/plain": [
       "\"\\nIn Python, the close() function is used to close a file. It is important to close a file after reading or writing to it because it frees up the system resources that were being used by the file.\\n\\nWhen a file is opened, the operating system creates a data structure to represent that file in memory. This data structure contains information such as the file's name, location, mode of opening, etc. The operating system also assigns a unique file descriptor to the file. This file descriptor is used by the system to access the file.\\n\\nWhen a file is closed, the operating system releases the data structure and the file descriptor associated with the file. This frees up system resources that were being used by the file.\\n\\nIf a file is not closed properly, the system resources associated with the file may not be released, leading to a memory leak. This can cause the program to consume more memory than necessary, which can eventually cause the program to crash or slow down.\\n\\nAdditionally, when a file is not closed properly, any data that was being written to the file may not be written correctly. This can result in corrupted data or lost information\""
      ]
     },
     "execution_count": 2,
     "metadata": {},
     "output_type": "execute_result"
    }
   ],
   "source": [
    "#Q2. Why close() function is used? Why is it important to close a file?\n",
    "\"\"\"\n",
    "In Python, the close() function is used to close a file. It is important to close a file after reading or writing to it because it frees up the system resources that were being used by the file.\n",
    "\n",
    "When a file is opened, the operating system creates a data structure to represent that file in memory. This data structure contains information such as the file's name, location, mode of opening, etc. The operating system also assigns a unique file descriptor to the file. This file descriptor is used by the system to access the file.\n",
    "\n",
    "When a file is closed, the operating system releases the data structure and the file descriptor associated with the file. This frees up system resources that were being used by the file.\n",
    "\n",
    "If a file is not closed properly, the system resources associated with the file may not be released, leading to a memory leak. This can cause the program to consume more memory than necessary, which can eventually cause the program to crash or slow down.\n",
    "\n",
    "Additionally, when a file is not closed properly, any data that was being written to the file may not be written correctly. This can result in corrupted data or lost information\"\"\""
   ]
  },
  {
   "cell_type": "code",
   "execution_count": 5,
   "id": "bdeb9a8d-5732-4721-9c75-66af9ee95e71",
   "metadata": {},
   "outputs": [],
   "source": [
    "#Q3. Write a python program to create a text file. Write ‘I want to become a Data Scientist’ in that file. Then\n",
    "#close the file. Open this file and read the content of the file.\n",
    "file = open('testassgn.txt','w')\n",
    "file.write(\"I want to become a Data Scientist\")\n",
    "file.close()"
   ]
  },
  {
   "cell_type": "code",
   "execution_count": 6,
   "id": "45a9109f-ef22-48c0-85c4-a7aa9bd39a58",
   "metadata": {},
   "outputs": [
    {
     "data": {
      "text/plain": [
       "'I want to become a Data Scientist'"
      ]
     },
     "execution_count": 6,
     "metadata": {},
     "output_type": "execute_result"
    }
   ],
   "source": [
    "file = open('testassgn.txt','r')\n",
    "file.read()"
   ]
  },
  {
   "cell_type": "code",
   "execution_count": 7,
   "id": "3651ae51-84d8-49de-b72f-5b5dc19dbd2f",
   "metadata": {},
   "outputs": [
    {
     "ename": "FileNotFoundError",
     "evalue": "[Errno 2] No such file or directory: 'example.txt'",
     "output_type": "error",
     "traceback": [
      "\u001b[0;31m---------------------------------------------------------------------------\u001b[0m",
      "\u001b[0;31mFileNotFoundError\u001b[0m                         Traceback (most recent call last)",
      "Cell \u001b[0;32mIn[7], line 8\u001b[0m\n\u001b[1;32m      2\u001b[0m \u001b[38;5;124;03m\"\"\"In python, we can use different methods to read data from a file. The three most commonly used methods are read(), readline(), and readlines(). Here's an explanation of each method:\u001b[39;00m\n\u001b[1;32m      3\u001b[0m \n\u001b[1;32m      4\u001b[0m \u001b[38;5;124;03mread(): This method reads the entire content of a file and returns it as a string. If you pass an argument to the read() method, it will read only that many characters from the file. If you don't pass any argument, it will read the entire file.\u001b[39;00m\n\u001b[1;32m      5\u001b[0m \u001b[38;5;124;03mExample:\u001b[39;00m\n\u001b[1;32m      6\u001b[0m \u001b[38;5;124;03m\"\"\"\u001b[39;00m\n\u001b[1;32m      7\u001b[0m \u001b[38;5;66;03m# opening a file in read mode\u001b[39;00m\n\u001b[0;32m----> 8\u001b[0m file \u001b[38;5;241m=\u001b[39m \u001b[38;5;28;43mopen\u001b[39;49m\u001b[43m(\u001b[49m\u001b[38;5;124;43m'\u001b[39;49m\u001b[38;5;124;43mexample.txt\u001b[39;49m\u001b[38;5;124;43m'\u001b[39;49m\u001b[43m,\u001b[49m\u001b[43m \u001b[49m\u001b[38;5;124;43m'\u001b[39;49m\u001b[38;5;124;43mr\u001b[39;49m\u001b[38;5;124;43m'\u001b[39;49m\u001b[43m)\u001b[49m\n\u001b[1;32m     10\u001b[0m \u001b[38;5;66;03m# reading the entire content of the file\u001b[39;00m\n\u001b[1;32m     11\u001b[0m content \u001b[38;5;241m=\u001b[39m file\u001b[38;5;241m.\u001b[39mread()\n",
      "File \u001b[0;32m/opt/conda/lib/python3.10/site-packages/IPython/core/interactiveshell.py:282\u001b[0m, in \u001b[0;36m_modified_open\u001b[0;34m(file, *args, **kwargs)\u001b[0m\n\u001b[1;32m    275\u001b[0m \u001b[38;5;28;01mif\u001b[39;00m file \u001b[38;5;129;01min\u001b[39;00m {\u001b[38;5;241m0\u001b[39m, \u001b[38;5;241m1\u001b[39m, \u001b[38;5;241m2\u001b[39m}:\n\u001b[1;32m    276\u001b[0m     \u001b[38;5;28;01mraise\u001b[39;00m \u001b[38;5;167;01mValueError\u001b[39;00m(\n\u001b[1;32m    277\u001b[0m         \u001b[38;5;124mf\u001b[39m\u001b[38;5;124m\"\u001b[39m\u001b[38;5;124mIPython won\u001b[39m\u001b[38;5;124m'\u001b[39m\u001b[38;5;124mt let you open fd=\u001b[39m\u001b[38;5;132;01m{\u001b[39;00mfile\u001b[38;5;132;01m}\u001b[39;00m\u001b[38;5;124m by default \u001b[39m\u001b[38;5;124m\"\u001b[39m\n\u001b[1;32m    278\u001b[0m         \u001b[38;5;124m\"\u001b[39m\u001b[38;5;124mas it is likely to crash IPython. If you know what you are doing, \u001b[39m\u001b[38;5;124m\"\u001b[39m\n\u001b[1;32m    279\u001b[0m         \u001b[38;5;124m\"\u001b[39m\u001b[38;5;124myou can use builtins\u001b[39m\u001b[38;5;124m'\u001b[39m\u001b[38;5;124m open.\u001b[39m\u001b[38;5;124m\"\u001b[39m\n\u001b[1;32m    280\u001b[0m     )\n\u001b[0;32m--> 282\u001b[0m \u001b[38;5;28;01mreturn\u001b[39;00m \u001b[43mio_open\u001b[49m\u001b[43m(\u001b[49m\u001b[43mfile\u001b[49m\u001b[43m,\u001b[49m\u001b[43m \u001b[49m\u001b[38;5;241;43m*\u001b[39;49m\u001b[43margs\u001b[49m\u001b[43m,\u001b[49m\u001b[43m \u001b[49m\u001b[38;5;241;43m*\u001b[39;49m\u001b[38;5;241;43m*\u001b[39;49m\u001b[43mkwargs\u001b[49m\u001b[43m)\u001b[49m\n",
      "\u001b[0;31mFileNotFoundError\u001b[0m: [Errno 2] No such file or directory: 'example.txt'"
     ]
    }
   ],
   "source": [
    "#Q4. Explain the following with python code: read(), readline() and readlines().\n",
    "\"\"\"In python, we can use different methods to read data from a file. The three most commonly used methods are read(), readline(), and readlines(). Here's an explanation of each method:\n",
    "\n",
    "read(): This method reads the entire content of a file and returns it as a string. If you pass an argument to the read() method, it will read only that many characters from the file. If you don't pass any argument, it will read the entire file.\n",
    "Example:\n",
    "\"\"\"\n",
    "# opening a file in read mode\n",
    "file = open('example.txt', 'r')\n",
    "\n",
    "# reading the entire content of the file\n",
    "content = file.read()\n",
    "\n",
    "# printing the content of the file\n",
    "print(content)\n",
    "\n",
    "# closing the file\n",
    "file.close()\n",
    "\"\"\"readline(): This method reads one line at a time from the file and returns it as a string. If you call this method multiple times, it will read each line of the file one by one until it reaches the end of the file.\n",
    "Example:\n",
    "\"\"\"\n",
    "# opening a file in read mode\n",
    "file = open('example.txt', 'r')\n",
    "\n",
    "# reading the first line of the file\n",
    "line1 = file.readline()\n",
    "print(line1)\n",
    "\n",
    "# reading the second line of the file\n",
    "line2 = file.readline()\n",
    "print(line2)\n",
    "\n",
    "# closing the file\n",
    "file.close()\n",
    "\"\"\"readlines(): This method reads all the lines of a file and returns them as a list of strings. Each string in the list represents one line of the file.\n",
    "Example:\n",
    "\"\"\"\n",
    "\n",
    "# opening a file in read mode\n",
    "file = open('example.txt', 'r')\n",
    "\n",
    "# reading all the lines of the file\n",
    "lines = file.readlines()\n",
    "\n",
    "# printing each line of the file\n",
    "for line in lines:\n",
    "    print(line)\n",
    "\n",
    "# closing the file\n",
    "file.close()\n"
   ]
  },
  {
   "cell_type": "code",
   "execution_count": 8,
   "id": "eb03b568-1ea6-49c9-a5d2-a66771226fba",
   "metadata": {},
   "outputs": [
    {
     "ename": "IndentationError",
     "evalue": "expected an indented block after 'with' statement on line 7 (1862171463.py, line 9)",
     "output_type": "error",
     "traceback": [
      "\u001b[0;36m  Cell \u001b[0;32mIn[8], line 9\u001b[0;36m\u001b[0m\n\u001b[0;31m    \"\"\"The code block inside the with statement can use the file object to read from or write to the file. After the code block has been executed, the file will be automatically closed.\u001b[0m\n\u001b[0m    ^\u001b[0m\n\u001b[0;31mIndentationError\u001b[0m\u001b[0;31m:\u001b[0m expected an indented block after 'with' statement on line 7\n"
     ]
    }
   ],
   "source": [
    "#Q5. Explain why with statement is used with open(). What is the advantage of using with statement and\n",
    "#open() together?\n",
    "\"\"\"In Python, the with statement is used with the open() function to simplify file operations by taking care of closing the file automatically after the code block inside the with statement has been executed.\n",
    "\n",
    "The syntax for using the with statement with open() is as follows:\n",
    "\"\"\"\n",
    "with open('filename.txt', 'r') as file:\n",
    "    # code block\n",
    "\"\"\"The code block inside the with statement can use the file object to read from or write to the file. After the code block has been executed, the file will be automatically closed.\n",
    "\n",
    "The advantage of using the with statement with open() is that it ensures that the file is closed properly, even if an exception is raised inside the code block. This means that you don't have to worry about closing the file manually, and it helps to prevent errors and memory leaks.\n",
    "\n",
    "Here's an example that shows the difference between using open() with and without the with statement:\n",
    "\"\"\"\n",
    "\n",
    "# without the 'with' statement\n",
    "file = open('example.txt', 'r')\n",
    "content = file.read()\n",
    "# do something with the file content\n",
    "file.close()\n",
    "\n",
    "# with the 'with' statement\n",
    "with open('example.txt', 'r') as file:\n",
    "    content = file.read()\n",
    "    # do something with the file content\n",
    "# the file is automatically closed when the 'with' block is exited\n",
    "\"\"\"In the first example, we open the file using open(), read its content, and then close it manually using the close() method. If there is an error after the file has been opened but before it has been closed, the file will remain open and the system resources associated with it will not be released.\n",
    "\n",
    "In the second example, we use the with statement with open(), which automatically closes the file when the with block is exited. This ensures that the file is always closed, regardless of whether there is an error or not. Therefore, it is recommended to use the with statement with open() whenever you need to read from or write to a file in Python.\n",
    "\"\"\"\n",
    "\n",
    "\n",
    "\n"
   ]
  },
  {
   "cell_type": "code",
   "execution_count": 10,
   "id": "c6443930-2434-411d-b526-64225ffeedac",
   "metadata": {},
   "outputs": [
    {
     "ename": "SyntaxError",
     "evalue": "incomplete input (2636266818.py, line 37)",
     "output_type": "error",
     "traceback": [
      "\u001b[0;36m  Cell \u001b[0;32mIn[10], line 37\u001b[0;36m\u001b[0m\n\u001b[0;31m    #This code will automatically close the file when the with block is exited.\u001b[0m\n\u001b[0m                                                                               ^\u001b[0m\n\u001b[0;31mSyntaxError\u001b[0m\u001b[0;31m:\u001b[0m incomplete input\n"
     ]
    }
   ],
   "source": [
    "#Q6. Explain the write() and writelines() functions. Give a suitable example.\n",
    "\"\"\"In Python, the write() function is used to write a string to a file. The writelines() function is used to write a list of strings to a file. Here's an explanation of each function:\n",
    "\n",
    "write(): This method writes a string to the file. If the file does not exist, it will be created. If the file already exists, the contents of the file will be overwritten.\n",
    "Example:\n",
    "\"\"\"\n",
    "# opening a file in write mode\n",
    "file = open('example.txt', 'w')\n",
    "\n",
    "# writing a string to the file\n",
    "file.write('Hello, world!\\n')\n",
    "\n",
    "# closing the file\n",
    "file.close()\n",
    "\"\"\"This code will create a new file called example.txt and write the string \"Hello, world!\" to it. The \"\\n\" character is added to the end of the string to start a new line.\n",
    "\n",
    "writelines(): This method writes a list of strings to the file. Each string in the list represents one line of the file. If the file does not exist, it will be created. If the file already exists, the contents of the file will be overwritten.\n",
    "Example:\n",
    "\"\"\"\n",
    "\n",
    "# opening a file in write mode\n",
    "file = open('example.txt', 'w')\n",
    "\n",
    "# writing a list of strings to the file\n",
    "lines = ['Hello, world!\\n', 'How are you?\\n', 'Goodbye!\\n']\n",
    "file.writelines(lines)\n",
    "\n",
    "# closing the file\n",
    "file.close()\n",
    "\"\"\"This code will create a new file called example.txt and write the list of strings to it. Each string in the list represents one line of the file. The \"\\n\" character is added to the end of each string to start a new line.\n",
    "\n",
    "Note that after opening a file, it is important to close it using the close() method. Alternatively, you can use a with statement to automatically close the file when you are done with it, as shown below:\n",
    "\"\"\"\n",
    "\n",
    "with open('example.txt', 'w') as file:\n",
    "    # use write() or writelines() methods here\n",
    "#This code will automatically close the file when the with block is exited."
   ]
  },
  {
   "cell_type": "code",
   "execution_count": null,
   "id": "2560d1ea-cb7c-4c70-9b31-37c94e3505b5",
   "metadata": {},
   "outputs": [],
   "source": []
  }
 ],
 "metadata": {
  "kernelspec": {
   "display_name": "Python 3 (ipykernel)",
   "language": "python",
   "name": "python3"
  },
  "language_info": {
   "codemirror_mode": {
    "name": "ipython",
    "version": 3
   },
   "file_extension": ".py",
   "mimetype": "text/x-python",
   "name": "python",
   "nbconvert_exporter": "python",
   "pygments_lexer": "ipython3",
   "version": "3.10.8"
  }
 },
 "nbformat": 4,
 "nbformat_minor": 5
}
