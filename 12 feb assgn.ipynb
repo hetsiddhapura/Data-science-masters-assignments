{
 "cells": [
  {
   "cell_type": "code",
   "execution_count": 1,
   "id": "e7b9b32e-d4a4-4b03-9b68-e902eaeda581",
   "metadata": {},
   "outputs": [
    {
     "data": {
      "text/plain": [
       "'In Python, an exception is an error that occurs during the execution of a program. When an exception occurs, the normal flow of the program is disrupted, and the program terminates if the exception is not handled properly.\\n\\nOn the other hand, a syntax error occurs when the syntax of the program is incorrect. In other words, a syntax error occurs when the code violates the rules of the programming language. This type of error is detected by the Python interpreter before the program is executed.\\n\\nHere are some key differences between exceptions and syntax errors in Python:\\n\\nCause: Exceptions are caused by errors that occur during the execution of a program, whereas syntax errors are caused by mistakes in the code itself.\\n\\nTiming: Exceptions occur at runtime, while syntax errors are detected before the program is executed.\\n\\nHandling: Exceptions can be handled by the program, whereas syntax errors must be fixed by the programmer before the program can be executed.\\n\\nError message: When an exception occurs, Python provides an error message that describes the type of exception and where it occurred. Syntax errors also provide an error message, but the message typically indicates where the syntax error occurred and what the error was.\\n\\nIn summary, exceptions and syntax errors are both types of errors that can occur in Python, but they have different causes, timing, handling, and error messages'"
      ]
     },
     "execution_count": 1,
     "metadata": {},
     "output_type": "execute_result"
    }
   ],
   "source": [
    "#Q1\n",
    "\"\"\"In Python, an exception is an error that occurs during the execution of a program. When an exception occurs, the normal flow of the program is disrupted, and the program terminates if the exception is not handled properly.\n",
    "\n",
    "On the other hand, a syntax error occurs when the syntax of the program is incorrect. In other words, a syntax error occurs when the code violates the rules of the programming language. This type of error is detected by the Python interpreter before the program is executed.\n",
    "\n",
    "Here are some key differences between exceptions and syntax errors in Python:\n",
    "\n",
    "Cause: Exceptions are caused by errors that occur during the execution of a program, whereas syntax errors are caused by mistakes in the code itself.\n",
    "\n",
    "Timing: Exceptions occur at runtime, while syntax errors are detected before the program is executed.\n",
    "\n",
    "Handling: Exceptions can be handled by the program, whereas syntax errors must be fixed by the programmer before the program can be executed.\n",
    "\n",
    "Error message: When an exception occurs, Python provides an error message that describes the type of exception and where it occurred. Syntax errors also provide an error message, but the message typically indicates where the syntax error occurred and what the error was.\n",
    "\n",
    "In summary, exceptions and syntax errors are both types of errors that can occur in Python, but they have different causes, timing, handling, and error messages\"\"\""
   ]
  },
  {
   "cell_type": "code",
   "execution_count": 2,
   "id": "c7a3776b-0926-45ed-99bb-075846515eb6",
   "metadata": {},
   "outputs": [
    {
     "name": "stdin",
     "output_type": "stream",
     "text": [
      "Enter a number:  76\n",
      "Enter another number:  0\n"
     ]
    },
    {
     "ename": "ZeroDivisionError",
     "evalue": "division by zero",
     "output_type": "error",
     "traceback": [
      "\u001b[0;31m---------------------------------------------------------------------------\u001b[0m",
      "\u001b[0;31mZeroDivisionError\u001b[0m                         Traceback (most recent call last)",
      "Cell \u001b[0;32mIn[2], line 9\u001b[0m\n\u001b[1;32m      7\u001b[0m     num1 \u001b[38;5;241m=\u001b[39m \u001b[38;5;28mint\u001b[39m(\u001b[38;5;28minput\u001b[39m(\u001b[38;5;124m\"\u001b[39m\u001b[38;5;124mEnter a number: \u001b[39m\u001b[38;5;124m\"\u001b[39m))\n\u001b[1;32m      8\u001b[0m     num2 \u001b[38;5;241m=\u001b[39m \u001b[38;5;28mint\u001b[39m(\u001b[38;5;28minput\u001b[39m(\u001b[38;5;124m\"\u001b[39m\u001b[38;5;124mEnter another number: \u001b[39m\u001b[38;5;124m\"\u001b[39m))\n\u001b[0;32m----> 9\u001b[0m     result \u001b[38;5;241m=\u001b[39m \u001b[43mnum1\u001b[49m\u001b[43m \u001b[49m\u001b[38;5;241;43m/\u001b[39;49m\u001b[43m \u001b[49m\u001b[43mnum2\u001b[49m\n\u001b[1;32m     10\u001b[0m     \u001b[38;5;28mprint\u001b[39m(result)\n\u001b[1;32m     11\u001b[0m \u001b[38;5;28;01mexcept\u001b[39;00m \u001b[38;5;167;01mValueError\u001b[39;00m:\n",
      "\u001b[0;31mZeroDivisionError\u001b[0m: division by zero"
     ]
    }
   ],
   "source": [
    "#Q2\n",
    "\"\"\"When an exception is not handled in Python, it will cause the program to terminate abruptly, and an error message will be displayed. The error message will provide information about the type of exception that occurred and where it occurred in the program.\n",
    "\n",
    "Here's an example to illustrate what happens when an exception is not handled:\n",
    "\"\"\"\n",
    "try:\n",
    "    num1 = int(input(\"Enter a number: \"))\n",
    "    num2 = int(input(\"Enter another number: \"))\n",
    "    result = num1 / num2\n",
    "    print(result)\n",
    "except ValueError:\n",
    "    print(\"Invalid input\")\n",
    "\"\"\"In this example, the program asks the user to enter two numbers and performs a division operation on them. If the user enters an invalid input (e.g., a string instead of a number), a ValueError exception will be raised, and the program will display the message \"Invalid input.\"\n",
    "\n",
    "Now, let's say that the user enters 0 as the second number. This will cause a ZeroDivisionError exception to be raised because dividing by zero is not allowed. However, the program does not have a try-except block to handle this exception, so the program will terminate abruptly, and an error message will be displayed:\n",
    "\"\"\""
   ]
  },
  {
   "cell_type": "code",
   "execution_count": 3,
   "id": "50f33ad1-adf4-48c9-8105-6c5ec04be581",
   "metadata": {},
   "outputs": [
    {
     "name": "stdin",
     "output_type": "stream",
     "text": [
      "Enter a number:  232\n",
      "Enter another number:  0\n"
     ]
    },
    {
     "name": "stdout",
     "output_type": "stream",
     "text": [
      "Cannot divide by zero\n"
     ]
    },
    {
     "data": {
      "text/plain": [
       "'In this example, the try block contains the code that prompts the user to enter two numbers, performs a division operation, and then prints the result. If an exception occurs in this block, it will be caught by one of the except blocks.\\n\\nThe first except block catches a ValueError exception, which occurs when the user enters an invalid input (e.g., a string instead of a number). If a ValueError occurs, the program will print the message \"Invalid input.\"\\n\\nThe second except block catches a ZeroDivisionError exception, which occurs when the user enters 0 as the second number. If a ZeroDivisionError occurs, the program will print the message \"Cannot divide by zero.\"\\n\\nBy using the try-except statement, the program can handle exceptions gracefully and continue running, instead of abruptly terminating with an error message'"
      ]
     },
     "execution_count": 3,
     "metadata": {},
     "output_type": "execute_result"
    }
   ],
   "source": [
    "#Q3\n",
    "\"\"\"In Python, the try-except statement is used to catch and handle exceptions. The try block contains the code that might raise an exception, while the except block contains the code that handles the exception if one occurs.\n",
    "\n",
    "Here's an example of how to use the try-except statement to catch and handle an exception:\n",
    "\"\"\"\n",
    "try:\n",
    "    num1 = int(input(\"Enter a number: \"))\n",
    "    num2 = int(input(\"Enter another number: \"))\n",
    "    result = num1 / num2\n",
    "    print(result)\n",
    "except ValueError:\n",
    "    print(\"Invalid input\")\n",
    "except ZeroDivisionError:\n",
    "    print(\"Cannot divide by zero\")\n",
    "\"\"\"In this example, the try block contains the code that prompts the user to enter two numbers, performs a division operation, and then prints the result. If an exception occurs in this block, it will be caught by one of the except blocks.\n",
    "\n",
    "The first except block catches a ValueError exception, which occurs when the user enters an invalid input (e.g., a string instead of a number). If a ValueError occurs, the program will print the message \"Invalid input.\"\n",
    "\n",
    "The second except block catches a ZeroDivisionError exception, which occurs when the user enters 0 as the second number. If a ZeroDivisionError occurs, the program will print the message \"Cannot divide by zero.\"\n",
    "\n",
    "By using the try-except statement, the program can handle exceptions gracefully and continue running, instead of abruptly terminating with an error message\"\"\""
   ]
  },
  {
   "cell_type": "code",
   "execution_count": 4,
   "id": "44ceeccb-8b2a-4dc7-96bb-4d58a4de4096",
   "metadata": {},
   "outputs": [
    {
     "name": "stdin",
     "output_type": "stream",
     "text": [
      "Enter a number:  2\n",
      "Enter another number:  5\n"
     ]
    },
    {
     "name": "stdout",
     "output_type": "stream",
     "text": [
      "The result is: 0.4\n",
      "File not found\n"
     ]
    },
    {
     "ename": "NameError",
     "evalue": "name 'file' is not defined",
     "output_type": "error",
     "traceback": [
      "\u001b[0;31m---------------------------------------------------------------------------\u001b[0m",
      "\u001b[0;31mNameError\u001b[0m                                 Traceback (most recent call last)",
      "Cell \u001b[0;32mIn[4], line 28\u001b[0m\n\u001b[1;32m     26\u001b[0m     \u001b[38;5;28mprint\u001b[39m(\u001b[38;5;124m\"\u001b[39m\u001b[38;5;124mFile not found\u001b[39m\u001b[38;5;124m\"\u001b[39m)\n\u001b[1;32m     27\u001b[0m \u001b[38;5;28;01mfinally\u001b[39;00m:\n\u001b[0;32m---> 28\u001b[0m     \u001b[43mfile\u001b[49m\u001b[38;5;241m.\u001b[39mclose()\n\u001b[1;32m     29\u001b[0m \u001b[38;5;124;03m\"\"\"In this example, the try block opens a file for reading and performs some operations on it. If a FileNotFoundError exception is raised (e.g., if the file does not exist), the program will execute the except block and print the message \"File not found.\" However, regardless of whether an exception is raised or not, the program will execute the finally block and close the file.\u001b[39;00m\n\u001b[1;32m     30\u001b[0m \n\u001b[1;32m     31\u001b[0m \u001b[38;5;124;03mraise statement in Python:\u001b[39;00m\n\u001b[0;32m   (...)\u001b[0m\n\u001b[1;32m     34\u001b[0m \u001b[38;5;124;03mHere's an example of how to use the raise statement in Python:\u001b[39;00m\n\u001b[1;32m     35\u001b[0m \u001b[38;5;124;03m\"\"\"\u001b[39;00m\n\u001b[1;32m     36\u001b[0m \u001b[38;5;28;01mdef\u001b[39;00m \u001b[38;5;21mdivide\u001b[39m(num1, num2):\n",
      "\u001b[0;31mNameError\u001b[0m: name 'file' is not defined"
     ]
    }
   ],
   "source": [
    "#Q4\n",
    "\"\"\"try and else statement in Python:\n",
    "The try and else statement in Python is used to specify a block of code that should be executed if no exception is raised in the try block. The else block is executed after the try block, but before the finally block (if there is one).\n",
    "\n",
    "Here's an example of how to use the try and else statement in Python:\n",
    "\"\"\"\n",
    "try:\n",
    "    num1 = int(input(\"Enter a number: \"))\n",
    "    num2 = int(input(\"Enter another number: \"))\n",
    "    result = num1 / num2\n",
    "except ValueError:\n",
    "    print(\"Invalid input\")\n",
    "else:\n",
    "    print(\"The result is:\", result)\n",
    "\"\"\"In this example, the try block prompts the user to enter two numbers, performs a division operation, and stores the result in the result variable. If a ValueError exception is raised (e.g., if the user enters an invalid input), the program will execute the except block and print the message \"Invalid input.\" However, if no exception is raised, the program will execute the else block and print the result.\n",
    "\n",
    "finally statement in Python:\n",
    "The finally statement in Python is used to specify a block of code that should be executed regardless of whether an exception is raised or not. The finally block is executed after the try block and any except or else blocks.\n",
    "\n",
    "Here's an example of how to use the finally statement in Python:\n",
    "\"\"\"\n",
    "try:\n",
    "    file = open(\"example.txt\", \"r\")\n",
    "    # some code to read the file\n",
    "except FileNotFoundError:\n",
    "    print(\"File not found\")\n",
    "finally:\n",
    "    file.close()\n",
    "\"\"\"In this example, the try block opens a file for reading and performs some operations on it. If a FileNotFoundError exception is raised (e.g., if the file does not exist), the program will execute the except block and print the message \"File not found.\" However, regardless of whether an exception is raised or not, the program will execute the finally block and close the file.\n",
    "\n",
    "raise statement in Python:\n",
    "The raise statement in Python is used to raise an exception manually. This can be useful in situations where you need to handle a specific error condition that is not covered by the built-in exceptions.\n",
    "\n",
    "Here's an example of how to use the raise statement in Python:\n",
    "\"\"\"\n",
    "def divide(num1, num2):\n",
    "    if num2 == 0:\n",
    "        raise ZeroDivisionError(\"Cannot divide by zero\")\n",
    "    else:\n",
    "        return num1 / num2\n",
    "\n",
    "try:\n",
    "    result = divide(10, 0)\n",
    "except ZeroDivisionError as error:\n",
    "    print(error)\n",
    "\"\"\"In this example, the divide() function checks if the second argument is 0. If it is, the function raises a ZeroDivisionError exception with the message \"Cannot divide by zero.\" In the try block, the divide() function is called with 10 and 0 as arguments, which causes a ZeroDivisionError to be raised. The except block catches the exception and prints the error message.\n",
    "\n",
    "By using the raise statement, you can create your own custom exceptions and handle them in a specific way.\"\"\""
   ]
  },
  {
   "cell_type": "code",
   "execution_count": 5,
   "id": "4a9ce15b-9b8c-4c02-bd61-12c01fa2e688",
   "metadata": {},
   "outputs": [
    {
     "name": "stdout",
     "output_type": "stream",
     "text": [
      "Cannot calculate square root of negative number\n"
     ]
    },
    {
     "data": {
      "text/plain": [
       "'In this example, we define a function called calculate_square_root() that takes a number as an argument and calculates its square root. If the number is negative, the function raises a NegativeNumberError with the message \"Cannot calculate square root of negative number.\" In the try block, the function is called with -4 as an argument, which causes a NegativeNumberError to be raised. The except block catches the exception and prints the error message.\\n\\nBy using custom exceptions in this way, we can provide more specific error messages and handle specific error conditions in a more structured way, making our code more readable and maintainable'"
      ]
     },
     "execution_count": 5,
     "metadata": {},
     "output_type": "execute_result"
    }
   ],
   "source": [
    "#q5\n",
    "\"\"\"Custom exceptions in Python are exceptions that are defined by the programmer, rather than being built-in to the language. They are used to handle specific error conditions that are not covered by the built-in exceptions.\n",
    "\n",
    "We need custom exceptions in Python for several reasons, including:\n",
    "\n",
    "To provide more specific information about an error: Built-in exceptions in Python provide a general idea of what went wrong, but they don't always provide specific details about the error. Custom exceptions can be used to provide more detailed information about the error and help developers identify and fix the problem.\n",
    "\n",
    "To make code more readable: Custom exceptions can make code more readable by providing descriptive names for specific errors that can occur in the code.\n",
    "\n",
    "To encapsulate error handling logic: By encapsulating error handling logic in a custom exception, developers can separate error handling from the main code logic, making it easier to maintain and modify.\n",
    "\n",
    "Here's an example of how to define a custom exception in Python:\n",
    "\"\"\"\n",
    "class NegativeNumberError(Exception):\n",
    "    pass\n",
    "\"\"\"In this example, we define a custom exception called NegativeNumberError that inherits from the built-in Exception class. The pass statement is used to indicate that the class does not have any additional code or behavior beyond what is inherited from Exception.\n",
    "\n",
    "Here's an example of how to use the NegativeNumberError custom exception in Python:\n",
    "\"\"\"\n",
    "def calculate_square_root(num):\n",
    "    if num < 0:\n",
    "        raise NegativeNumberError(\"Cannot calculate square root of negative number\")\n",
    "    else:\n",
    "        return math.sqrt(num)\n",
    "\n",
    "try:\n",
    "    result = calculate_square_root(-4)\n",
    "except NegativeNumberError as error:\n",
    "    print(error)\n",
    "\"\"\"In this example, we define a function called calculate_square_root() that takes a number as an argument and calculates its square root. If the number is negative, the function raises a NegativeNumberError with the message \"Cannot calculate square root of negative number.\" In the try block, the function is called with -4 as an argument, which causes a NegativeNumberError to be raised. The except block catches the exception and prints the error message.\n",
    "\n",
    "By using custom exceptions in this way, we can provide more specific error messages and handle specific error conditions in a more structured way, making our code more readable and maintainable\"\"\""
   ]
  },
  {
   "cell_type": "code",
   "execution_count": 6,
   "id": "5cfd795a-0241-4d40-9b6b-8fa917feb4f0",
   "metadata": {},
   "outputs": [
    {
     "name": "stdin",
     "output_type": "stream",
     "text": [
      "enter your age:  9\n"
     ]
    },
    {
     "name": "stdout",
     "output_type": "stream",
     "text": [
      "age is ok\n"
     ]
    }
   ],
   "source": [
    "#Q6\n",
    "class validateage(Exception):\n",
    "    def __init__(self,msg):\n",
    "        self.msg = msg\n",
    "        \n",
    "def validate_age(age):\n",
    "    if age<0:\n",
    "        raise validateage(\"age cannot be lesser than 0\")\n",
    "    elif age>200:\n",
    "        raise validateage(\"age is too high\")\n",
    "    else:\n",
    "        print(\"age is ok\")\n",
    "        \n",
    "try:\n",
    "    age=int(input(\"enter your age: \"))\n",
    "    validate_age(age)\n",
    "except validateage as e:\n",
    "    print(e)"
   ]
  },
  {
   "cell_type": "code",
   "execution_count": null,
   "id": "ae04c628-89ca-4f09-bd62-3d8b05fc58f2",
   "metadata": {},
   "outputs": [],
   "source": []
  }
 ],
 "metadata": {
  "kernelspec": {
   "display_name": "Python 3 (ipykernel)",
   "language": "python",
   "name": "python3"
  },
  "language_info": {
   "codemirror_mode": {
    "name": "ipython",
    "version": 3
   },
   "file_extension": ".py",
   "mimetype": "text/x-python",
   "name": "python",
   "nbconvert_exporter": "python",
   "pygments_lexer": "ipython3",
   "version": "3.10.8"
  }
 },
 "nbformat": 4,
 "nbformat_minor": 5
}
